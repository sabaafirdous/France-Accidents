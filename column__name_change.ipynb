{
  "nbformat": 4,
  "nbformat_minor": 0,
  "metadata": {
    "colab": {
      "provenance": [],
      "include_colab_link": true
    },
    "kernelspec": {
      "name": "python3",
      "display_name": "Python 3"
    },
    "language_info": {
      "name": "python"
    }
  },
  "cells": [
    {
      "cell_type": "markdown",
      "metadata": {
        "id": "view-in-github",
        "colab_type": "text"
      },
      "source": [
        "<a href=\"https://colab.research.google.com/github/sabaafirdous/France-Accidents/blob/main/column__name_change.ipynb\" target=\"_parent\"><img src=\"https://colab.research.google.com/assets/colab-badge.svg\" alt=\"Open In Colab\"/></a>"
      ]
    },
    {
      "cell_type": "code",
      "execution_count": null,
      "metadata": {
        "id": "PWTYAp2vKIXV"
      },
      "outputs": [],
      "source": [
        "import pandas as pd"
      ]
    },
    {
      "cell_type": "code",
      "source": [
        "from google.colab import drive\n",
        "drive.mount('/content/drive')"
      ],
      "metadata": {
        "colab": {
          "base_uri": "https://localhost:8080/"
        },
        "id": "WnQx-7ru6utg",
        "outputId": "609b5bea-8b2b-433f-f6a8-57020d3a7c98"
      },
      "execution_count": null,
      "outputs": [
        {
          "output_type": "stream",
          "name": "stdout",
          "text": [
            "Drive already mounted at /content/drive; to attempt to forcibly remount, call drive.mount(\"/content/drive\", force_remount=True).\n"
          ]
        }
      ]
    },
    {
      "cell_type": "code",
      "source": [
        "data=pd.read_csv('/content/drive/MyDrive/DS_project_data/all_data.csv')\n",
        "data.rename(columns={'senc':'Flow_direction'},inplace=True)"
      ],
      "metadata": {
        "colab": {
          "base_uri": "https://localhost:8080/"
        },
        "id": "pNPdNyU9KZYW",
        "outputId": "79fc2615-b393-4f25-d223-326ee44c8e0c"
      },
      "execution_count": null,
      "outputs": [
        {
          "output_type": "stream",
          "name": "stderr",
          "text": [
            "<ipython-input-55-d0cdf1633531>:1: DtypeWarning: Columns (26) have mixed types. Specify dtype option on import or set low_memory=False.\n",
            "  data=pd.read_csv('/content/drive/MyDrive/DS_project_data/all_data.csv')\n"
          ]
        }
      ]
    },
    {
      "cell_type": "code",
      "source": [
        "data.columns"
      ],
      "metadata": {
        "colab": {
          "base_uri": "https://localhost:8080/"
        },
        "id": "qajrL-DDM-Nq",
        "outputId": "f563cad3-91cf-489a-cad7-510858ecb71a"
      },
      "execution_count": null,
      "outputs": [
        {
          "output_type": "execute_result",
          "data": {
            "text/plain": [
              "Index(['Unnamed: 0', 'Accident_ID', 'year_of_acc', 'month_of_acc',\n",
              "       'day_of acc', 'acc_tim_in_hour_min', 'lighting_condition',\n",
              "       'localisation', ' Type_of_Intersection', 'Atmospheric_conditions',\n",
              "       'type_of_collision', 'Municipality', 'Departmeent', 'date', 'place',\n",
              "       'User_category', ' Severity_of_the_accident', 'sex', 'route',\n",
              "       ' safety_equipment', ' Location_of_the_pedestrian',\n",
              "       ' Action_of_the_pedestrian', 'injured_pedestrian_was_alone_or_no',\n",
              "       ' Year_of_birth', 'num_veh_x', 'Category_of_Road', 'Road_Number',\n",
              "       'Traffic_regime', 'numof_traffic_lanes', 'Reserved_Lane',\n",
              "       'Longitudinal Profile', 'Drawing_in_Plan', 'Central_Solid_Land',\n",
              "       'Width_assigned_to_vehicle', 'Surface_Condition',\n",
              "       'Development-Infrastructure', 'Situation_of_Accident', 'School_point',\n",
              "       'Flow_direction', 'catagory_veh', 'occupants_num', 'obstacles_fixed',\n",
              "       'obstacle_mobile', 'shock', 'maneuver', 'num_veh_y'],\n",
              "      dtype='object')"
            ]
          },
          "metadata": {},
          "execution_count": 56
        }
      ]
    },
    {
      "cell_type": "code",
      "source": [
        "data['year_of_acc'].unique()\n"
      ],
      "metadata": {
        "colab": {
          "base_uri": "https://localhost:8080/"
        },
        "id": "5UGFhZBGM9cC",
        "outputId": "48d2e272-2d8b-4435-ad01-a4b023957f6c"
      },
      "execution_count": null,
      "outputs": [
        {
          "output_type": "execute_result",
          "data": {
            "text/plain": [
              "array([2016, 2015, 2014, 2013, 2012, 2011, 2010, 2009, 2008, 2007, 2006,\n",
              "       2005])"
            ]
          },
          "metadata": {},
          "execution_count": 57
        }
      ]
    },
    {
      "cell_type": "markdown",
      "source": [],
      "metadata": {
        "id": "ghaOwCe9Q_Ko"
      }
    },
    {
      "cell_type": "code",
      "source": [
        "replacement_dict = {1:'full_day',\n",
        "    2: 'Twilight or dawn',\n",
        "    3: 'Night without public lighting',\n",
        "    4: 'Night with public lighting not lit',\n",
        "    5: 'Night with public lighting on'\n",
        "}\n",
        "\n",
        "data['lighting_condition'] = data['lighting_condition'].replace(replacement_dict)\n",
        "data"
      ],
      "metadata": {
        "colab": {
          "base_uri": "https://localhost:8080/",
          "height": 496
        },
        "id": "fEXwn8NGRYqw",
        "outputId": "25b9bf2d-c718-43ac-a92d-ef8e0eb0ab71"
      },
      "execution_count": null,
      "outputs": [
        {
          "output_type": "execute_result",
          "data": {
            "text/plain": [
              "         Unnamed: 0   Accident_ID  year_of_acc  month_of_acc  day_of acc  \\\n",
              "0                 0  201600000001         2016             2           1   \n",
              "1                 1  201600000001         2016             2           1   \n",
              "2                 2  201600000001         2016             2           1   \n",
              "3                 3  201600000001         2016             2           1   \n",
              "4                 4  201600000002         2016             3          16   \n",
              "...             ...           ...          ...           ...         ...   \n",
              "3553971     3553971  200500087953         2005            12          27   \n",
              "3553972     3553972  200500087953         2005            12          27   \n",
              "3553973     3553973  200500087953         2005            12          27   \n",
              "3553974     3553974  200500087954         2005            12          31   \n",
              "3553975     3553975  200500087954         2005            12          31   \n",
              "\n",
              "         acc_tim_in_hour_min             lighting_condition  localisation  \\\n",
              "0                       1445                       full_day             2   \n",
              "1                       1445                       full_day             2   \n",
              "2                       1445                       full_day             2   \n",
              "3                       1445                       full_day             2   \n",
              "4                       1800                       full_day             2   \n",
              "...                      ...                            ...           ...   \n",
              "3553971                 1500                       full_day             2   \n",
              "3553972                 1500                       full_day             2   \n",
              "3553973                 1500                       full_day             2   \n",
              "3553974                 2100  Night with public lighting on             2   \n",
              "3553975                 2100  Night with public lighting on             2   \n",
              "\n",
              "          Type_of_Intersection  Atmospheric_conditions  ...  \\\n",
              "0                            1                     8.0  ...   \n",
              "1                            1                     8.0  ...   \n",
              "2                            1                     8.0  ...   \n",
              "3                            1                     8.0  ...   \n",
              "4                            6                     1.0  ...   \n",
              "...                        ...                     ...  ...   \n",
              "3553971                      3                     2.0  ...   \n",
              "3553972                      3                     2.0  ...   \n",
              "3553973                      3                     2.0  ...   \n",
              "3553974                      1                     2.0  ...   \n",
              "3553975                      1                     2.0  ...   \n",
              "\n",
              "         Situation_of_Accident  School_point  Flow_direction catagory_veh  \\\n",
              "0                          1.0           0.0             0.0            7   \n",
              "1                          1.0           0.0             0.0            2   \n",
              "2                          1.0           0.0             0.0            7   \n",
              "3                          1.0           0.0             0.0            2   \n",
              "4                          1.0           0.0             0.0            7   \n",
              "...                        ...           ...             ...          ...   \n",
              "3553971                    1.0           0.0             0.0            7   \n",
              "3553972                    1.0           0.0             0.0            2   \n",
              "3553973                    1.0           0.0             0.0            7   \n",
              "3553974                    1.0           0.0             0.0            7   \n",
              "3553975                    1.0           0.0             0.0            7   \n",
              "\n",
              "         occupants_num  obstacles_fixed  obstacle_mobile  shock  maneuver  \\\n",
              "0                    0              0.0              0.0    1.0       1.0   \n",
              "1                    0              0.0              0.0    7.0      15.0   \n",
              "2                    0              0.0              0.0    1.0       1.0   \n",
              "3                    0              0.0              0.0    7.0      15.0   \n",
              "4                    0              6.0              0.0    1.0       1.0   \n",
              "...                ...              ...              ...    ...       ...   \n",
              "3553971              0              0.0              2.0    3.0      19.0   \n",
              "3553972              0              0.0              2.0    1.0      17.0   \n",
              "3553973              0              0.0              2.0    1.0       1.0   \n",
              "3553974              0              4.0              0.0    0.0       1.0   \n",
              "3553975              0              4.0              0.0    0.0       1.0   \n",
              "\n",
              "         num_veh_y  \n",
              "0              B02  \n",
              "1              A01  \n",
              "2              B02  \n",
              "3              A01  \n",
              "4              A01  \n",
              "...            ...  \n",
              "3553971        B01  \n",
              "3553972        A01  \n",
              "3553973        C01  \n",
              "3553974        A01  \n",
              "3553975        A01  \n",
              "\n",
              "[3553976 rows x 46 columns]"
            ],
            "text/html": [
              "\n",
              "  <div id=\"df-b7691770-9e8f-4573-a870-4bfbf6192aa8\" class=\"colab-df-container\">\n",
              "    <div>\n",
              "<style scoped>\n",
              "    .dataframe tbody tr th:only-of-type {\n",
              "        vertical-align: middle;\n",
              "    }\n",
              "\n",
              "    .dataframe tbody tr th {\n",
              "        vertical-align: top;\n",
              "    }\n",
              "\n",
              "    .dataframe thead th {\n",
              "        text-align: right;\n",
              "    }\n",
              "</style>\n",
              "<table border=\"1\" class=\"dataframe\">\n",
              "  <thead>\n",
              "    <tr style=\"text-align: right;\">\n",
              "      <th></th>\n",
              "      <th>Unnamed: 0</th>\n",
              "      <th>Accident_ID</th>\n",
              "      <th>year_of_acc</th>\n",
              "      <th>month_of_acc</th>\n",
              "      <th>day_of acc</th>\n",
              "      <th>acc_tim_in_hour_min</th>\n",
              "      <th>lighting_condition</th>\n",
              "      <th>localisation</th>\n",
              "      <th>Type_of_Intersection</th>\n",
              "      <th>Atmospheric_conditions</th>\n",
              "      <th>...</th>\n",
              "      <th>Situation_of_Accident</th>\n",
              "      <th>School_point</th>\n",
              "      <th>Flow_direction</th>\n",
              "      <th>catagory_veh</th>\n",
              "      <th>occupants_num</th>\n",
              "      <th>obstacles_fixed</th>\n",
              "      <th>obstacle_mobile</th>\n",
              "      <th>shock</th>\n",
              "      <th>maneuver</th>\n",
              "      <th>num_veh_y</th>\n",
              "    </tr>\n",
              "  </thead>\n",
              "  <tbody>\n",
              "    <tr>\n",
              "      <th>0</th>\n",
              "      <td>0</td>\n",
              "      <td>201600000001</td>\n",
              "      <td>2016</td>\n",
              "      <td>2</td>\n",
              "      <td>1</td>\n",
              "      <td>1445</td>\n",
              "      <td>full_day</td>\n",
              "      <td>2</td>\n",
              "      <td>1</td>\n",
              "      <td>8.0</td>\n",
              "      <td>...</td>\n",
              "      <td>1.0</td>\n",
              "      <td>0.0</td>\n",
              "      <td>0.0</td>\n",
              "      <td>7</td>\n",
              "      <td>0</td>\n",
              "      <td>0.0</td>\n",
              "      <td>0.0</td>\n",
              "      <td>1.0</td>\n",
              "      <td>1.0</td>\n",
              "      <td>B02</td>\n",
              "    </tr>\n",
              "    <tr>\n",
              "      <th>1</th>\n",
              "      <td>1</td>\n",
              "      <td>201600000001</td>\n",
              "      <td>2016</td>\n",
              "      <td>2</td>\n",
              "      <td>1</td>\n",
              "      <td>1445</td>\n",
              "      <td>full_day</td>\n",
              "      <td>2</td>\n",
              "      <td>1</td>\n",
              "      <td>8.0</td>\n",
              "      <td>...</td>\n",
              "      <td>1.0</td>\n",
              "      <td>0.0</td>\n",
              "      <td>0.0</td>\n",
              "      <td>2</td>\n",
              "      <td>0</td>\n",
              "      <td>0.0</td>\n",
              "      <td>0.0</td>\n",
              "      <td>7.0</td>\n",
              "      <td>15.0</td>\n",
              "      <td>A01</td>\n",
              "    </tr>\n",
              "    <tr>\n",
              "      <th>2</th>\n",
              "      <td>2</td>\n",
              "      <td>201600000001</td>\n",
              "      <td>2016</td>\n",
              "      <td>2</td>\n",
              "      <td>1</td>\n",
              "      <td>1445</td>\n",
              "      <td>full_day</td>\n",
              "      <td>2</td>\n",
              "      <td>1</td>\n",
              "      <td>8.0</td>\n",
              "      <td>...</td>\n",
              "      <td>1.0</td>\n",
              "      <td>0.0</td>\n",
              "      <td>0.0</td>\n",
              "      <td>7</td>\n",
              "      <td>0</td>\n",
              "      <td>0.0</td>\n",
              "      <td>0.0</td>\n",
              "      <td>1.0</td>\n",
              "      <td>1.0</td>\n",
              "      <td>B02</td>\n",
              "    </tr>\n",
              "    <tr>\n",
              "      <th>3</th>\n",
              "      <td>3</td>\n",
              "      <td>201600000001</td>\n",
              "      <td>2016</td>\n",
              "      <td>2</td>\n",
              "      <td>1</td>\n",
              "      <td>1445</td>\n",
              "      <td>full_day</td>\n",
              "      <td>2</td>\n",
              "      <td>1</td>\n",
              "      <td>8.0</td>\n",
              "      <td>...</td>\n",
              "      <td>1.0</td>\n",
              "      <td>0.0</td>\n",
              "      <td>0.0</td>\n",
              "      <td>2</td>\n",
              "      <td>0</td>\n",
              "      <td>0.0</td>\n",
              "      <td>0.0</td>\n",
              "      <td>7.0</td>\n",
              "      <td>15.0</td>\n",
              "      <td>A01</td>\n",
              "    </tr>\n",
              "    <tr>\n",
              "      <th>4</th>\n",
              "      <td>4</td>\n",
              "      <td>201600000002</td>\n",
              "      <td>2016</td>\n",
              "      <td>3</td>\n",
              "      <td>16</td>\n",
              "      <td>1800</td>\n",
              "      <td>full_day</td>\n",
              "      <td>2</td>\n",
              "      <td>6</td>\n",
              "      <td>1.0</td>\n",
              "      <td>...</td>\n",
              "      <td>1.0</td>\n",
              "      <td>0.0</td>\n",
              "      <td>0.0</td>\n",
              "      <td>7</td>\n",
              "      <td>0</td>\n",
              "      <td>6.0</td>\n",
              "      <td>0.0</td>\n",
              "      <td>1.0</td>\n",
              "      <td>1.0</td>\n",
              "      <td>A01</td>\n",
              "    </tr>\n",
              "    <tr>\n",
              "      <th>...</th>\n",
              "      <td>...</td>\n",
              "      <td>...</td>\n",
              "      <td>...</td>\n",
              "      <td>...</td>\n",
              "      <td>...</td>\n",
              "      <td>...</td>\n",
              "      <td>...</td>\n",
              "      <td>...</td>\n",
              "      <td>...</td>\n",
              "      <td>...</td>\n",
              "      <td>...</td>\n",
              "      <td>...</td>\n",
              "      <td>...</td>\n",
              "      <td>...</td>\n",
              "      <td>...</td>\n",
              "      <td>...</td>\n",
              "      <td>...</td>\n",
              "      <td>...</td>\n",
              "      <td>...</td>\n",
              "      <td>...</td>\n",
              "      <td>...</td>\n",
              "    </tr>\n",
              "    <tr>\n",
              "      <th>3553971</th>\n",
              "      <td>3553971</td>\n",
              "      <td>200500087953</td>\n",
              "      <td>2005</td>\n",
              "      <td>12</td>\n",
              "      <td>27</td>\n",
              "      <td>1500</td>\n",
              "      <td>full_day</td>\n",
              "      <td>2</td>\n",
              "      <td>3</td>\n",
              "      <td>2.0</td>\n",
              "      <td>...</td>\n",
              "      <td>1.0</td>\n",
              "      <td>0.0</td>\n",
              "      <td>0.0</td>\n",
              "      <td>7</td>\n",
              "      <td>0</td>\n",
              "      <td>0.0</td>\n",
              "      <td>2.0</td>\n",
              "      <td>3.0</td>\n",
              "      <td>19.0</td>\n",
              "      <td>B01</td>\n",
              "    </tr>\n",
              "    <tr>\n",
              "      <th>3553972</th>\n",
              "      <td>3553972</td>\n",
              "      <td>200500087953</td>\n",
              "      <td>2005</td>\n",
              "      <td>12</td>\n",
              "      <td>27</td>\n",
              "      <td>1500</td>\n",
              "      <td>full_day</td>\n",
              "      <td>2</td>\n",
              "      <td>3</td>\n",
              "      <td>2.0</td>\n",
              "      <td>...</td>\n",
              "      <td>1.0</td>\n",
              "      <td>0.0</td>\n",
              "      <td>0.0</td>\n",
              "      <td>2</td>\n",
              "      <td>0</td>\n",
              "      <td>0.0</td>\n",
              "      <td>2.0</td>\n",
              "      <td>1.0</td>\n",
              "      <td>17.0</td>\n",
              "      <td>A01</td>\n",
              "    </tr>\n",
              "    <tr>\n",
              "      <th>3553973</th>\n",
              "      <td>3553973</td>\n",
              "      <td>200500087953</td>\n",
              "      <td>2005</td>\n",
              "      <td>12</td>\n",
              "      <td>27</td>\n",
              "      <td>1500</td>\n",
              "      <td>full_day</td>\n",
              "      <td>2</td>\n",
              "      <td>3</td>\n",
              "      <td>2.0</td>\n",
              "      <td>...</td>\n",
              "      <td>1.0</td>\n",
              "      <td>0.0</td>\n",
              "      <td>0.0</td>\n",
              "      <td>7</td>\n",
              "      <td>0</td>\n",
              "      <td>0.0</td>\n",
              "      <td>2.0</td>\n",
              "      <td>1.0</td>\n",
              "      <td>1.0</td>\n",
              "      <td>C01</td>\n",
              "    </tr>\n",
              "    <tr>\n",
              "      <th>3553974</th>\n",
              "      <td>3553974</td>\n",
              "      <td>200500087954</td>\n",
              "      <td>2005</td>\n",
              "      <td>12</td>\n",
              "      <td>31</td>\n",
              "      <td>2100</td>\n",
              "      <td>Night with public lighting on</td>\n",
              "      <td>2</td>\n",
              "      <td>1</td>\n",
              "      <td>2.0</td>\n",
              "      <td>...</td>\n",
              "      <td>1.0</td>\n",
              "      <td>0.0</td>\n",
              "      <td>0.0</td>\n",
              "      <td>7</td>\n",
              "      <td>0</td>\n",
              "      <td>4.0</td>\n",
              "      <td>0.0</td>\n",
              "      <td>0.0</td>\n",
              "      <td>1.0</td>\n",
              "      <td>A01</td>\n",
              "    </tr>\n",
              "    <tr>\n",
              "      <th>3553975</th>\n",
              "      <td>3553975</td>\n",
              "      <td>200500087954</td>\n",
              "      <td>2005</td>\n",
              "      <td>12</td>\n",
              "      <td>31</td>\n",
              "      <td>2100</td>\n",
              "      <td>Night with public lighting on</td>\n",
              "      <td>2</td>\n",
              "      <td>1</td>\n",
              "      <td>2.0</td>\n",
              "      <td>...</td>\n",
              "      <td>1.0</td>\n",
              "      <td>0.0</td>\n",
              "      <td>0.0</td>\n",
              "      <td>7</td>\n",
              "      <td>0</td>\n",
              "      <td>4.0</td>\n",
              "      <td>0.0</td>\n",
              "      <td>0.0</td>\n",
              "      <td>1.0</td>\n",
              "      <td>A01</td>\n",
              "    </tr>\n",
              "  </tbody>\n",
              "</table>\n",
              "<p>3553976 rows × 46 columns</p>\n",
              "</div>\n",
              "    <div class=\"colab-df-buttons\">\n",
              "\n",
              "  <div class=\"colab-df-container\">\n",
              "    <button class=\"colab-df-convert\" onclick=\"convertToInteractive('df-b7691770-9e8f-4573-a870-4bfbf6192aa8')\"\n",
              "            title=\"Convert this dataframe to an interactive table.\"\n",
              "            style=\"display:none;\">\n",
              "\n",
              "  <svg xmlns=\"http://www.w3.org/2000/svg\" height=\"24px\" viewBox=\"0 -960 960 960\">\n",
              "    <path d=\"M120-120v-720h720v720H120Zm60-500h600v-160H180v160Zm220 220h160v-160H400v160Zm0 220h160v-160H400v160ZM180-400h160v-160H180v160Zm440 0h160v-160H620v160ZM180-180h160v-160H180v160Zm440 0h160v-160H620v160Z\"/>\n",
              "  </svg>\n",
              "    </button>\n",
              "\n",
              "  <style>\n",
              "    .colab-df-container {\n",
              "      display:flex;\n",
              "      gap: 12px;\n",
              "    }\n",
              "\n",
              "    .colab-df-convert {\n",
              "      background-color: #E8F0FE;\n",
              "      border: none;\n",
              "      border-radius: 50%;\n",
              "      cursor: pointer;\n",
              "      display: none;\n",
              "      fill: #1967D2;\n",
              "      height: 32px;\n",
              "      padding: 0 0 0 0;\n",
              "      width: 32px;\n",
              "    }\n",
              "\n",
              "    .colab-df-convert:hover {\n",
              "      background-color: #E2EBFA;\n",
              "      box-shadow: 0px 1px 2px rgba(60, 64, 67, 0.3), 0px 1px 3px 1px rgba(60, 64, 67, 0.15);\n",
              "      fill: #174EA6;\n",
              "    }\n",
              "\n",
              "    .colab-df-buttons div {\n",
              "      margin-bottom: 4px;\n",
              "    }\n",
              "\n",
              "    [theme=dark] .colab-df-convert {\n",
              "      background-color: #3B4455;\n",
              "      fill: #D2E3FC;\n",
              "    }\n",
              "\n",
              "    [theme=dark] .colab-df-convert:hover {\n",
              "      background-color: #434B5C;\n",
              "      box-shadow: 0px 1px 3px 1px rgba(0, 0, 0, 0.15);\n",
              "      filter: drop-shadow(0px 1px 2px rgba(0, 0, 0, 0.3));\n",
              "      fill: #FFFFFF;\n",
              "    }\n",
              "  </style>\n",
              "\n",
              "    <script>\n",
              "      const buttonEl =\n",
              "        document.querySelector('#df-b7691770-9e8f-4573-a870-4bfbf6192aa8 button.colab-df-convert');\n",
              "      buttonEl.style.display =\n",
              "        google.colab.kernel.accessAllowed ? 'block' : 'none';\n",
              "\n",
              "      async function convertToInteractive(key) {\n",
              "        const element = document.querySelector('#df-b7691770-9e8f-4573-a870-4bfbf6192aa8');\n",
              "        const dataTable =\n",
              "          await google.colab.kernel.invokeFunction('convertToInteractive',\n",
              "                                                    [key], {});\n",
              "        if (!dataTable) return;\n",
              "\n",
              "        const docLinkHtml = 'Like what you see? Visit the ' +\n",
              "          '<a target=\"_blank\" href=https://colab.research.google.com/notebooks/data_table.ipynb>data table notebook</a>'\n",
              "          + ' to learn more about interactive tables.';\n",
              "        element.innerHTML = '';\n",
              "        dataTable['output_type'] = 'display_data';\n",
              "        await google.colab.output.renderOutput(dataTable, element);\n",
              "        const docLink = document.createElement('div');\n",
              "        docLink.innerHTML = docLinkHtml;\n",
              "        element.appendChild(docLink);\n",
              "      }\n",
              "    </script>\n",
              "  </div>\n",
              "\n",
              "\n",
              "<div id=\"df-ff1acd7e-1fb5-42a3-82a6-e8e726d34393\">\n",
              "  <button class=\"colab-df-quickchart\" onclick=\"quickchart('df-ff1acd7e-1fb5-42a3-82a6-e8e726d34393')\"\n",
              "            title=\"Suggest charts.\"\n",
              "            style=\"display:none;\">\n",
              "\n",
              "<svg xmlns=\"http://www.w3.org/2000/svg\" height=\"24px\"viewBox=\"0 0 24 24\"\n",
              "     width=\"24px\">\n",
              "    <g>\n",
              "        <path d=\"M19 3H5c-1.1 0-2 .9-2 2v14c0 1.1.9 2 2 2h14c1.1 0 2-.9 2-2V5c0-1.1-.9-2-2-2zM9 17H7v-7h2v7zm4 0h-2V7h2v10zm4 0h-2v-4h2v4z\"/>\n",
              "    </g>\n",
              "</svg>\n",
              "  </button>\n",
              "\n",
              "<style>\n",
              "  .colab-df-quickchart {\n",
              "    background-color: #E8F0FE;\n",
              "    border: none;\n",
              "    border-radius: 50%;\n",
              "    cursor: pointer;\n",
              "    display: none;\n",
              "    fill: #1967D2;\n",
              "    height: 32px;\n",
              "    padding: 0 0 0 0;\n",
              "    width: 32px;\n",
              "  }\n",
              "\n",
              "  .colab-df-quickchart:hover {\n",
              "    background-color: #E2EBFA;\n",
              "    box-shadow: 0px 1px 2px rgba(60, 64, 67, 0.3), 0px 1px 3px 1px rgba(60, 64, 67, 0.15);\n",
              "    fill: #174EA6;\n",
              "  }\n",
              "\n",
              "  [theme=dark] .colab-df-quickchart {\n",
              "    background-color: #3B4455;\n",
              "    fill: #D2E3FC;\n",
              "  }\n",
              "\n",
              "  [theme=dark] .colab-df-quickchart:hover {\n",
              "    background-color: #434B5C;\n",
              "    box-shadow: 0px 1px 3px 1px rgba(0, 0, 0, 0.15);\n",
              "    filter: drop-shadow(0px 1px 2px rgba(0, 0, 0, 0.3));\n",
              "    fill: #FFFFFF;\n",
              "  }\n",
              "</style>\n",
              "\n",
              "  <script>\n",
              "    async function quickchart(key) {\n",
              "      const charts = await google.colab.kernel.invokeFunction(\n",
              "          'suggestCharts', [key], {});\n",
              "    }\n",
              "    (() => {\n",
              "      let quickchartButtonEl =\n",
              "        document.querySelector('#df-ff1acd7e-1fb5-42a3-82a6-e8e726d34393 button');\n",
              "      quickchartButtonEl.style.display =\n",
              "        google.colab.kernel.accessAllowed ? 'block' : 'none';\n",
              "    })();\n",
              "  </script>\n",
              "</div>\n",
              "    </div>\n",
              "  </div>\n"
            ]
          },
          "metadata": {},
          "execution_count": 58
        }
      ]
    },
    {
      "cell_type": "code",
      "source": [
        "data['lighting_condition'].value_counts()"
      ],
      "metadata": {
        "colab": {
          "base_uri": "https://localhost:8080/"
        },
        "id": "A2XOuifTRkA9",
        "outputId": "9cb62686-e021-41a7-dee1-1141f6b58bb1"
      },
      "execution_count": null,
      "outputs": [
        {
          "output_type": "execute_result",
          "data": {
            "text/plain": [
              "full_day                              2496494\n",
              "Night with public lighting on          550188\n",
              "Night without public lighting          280877\n",
              "Twilight or dawn                       198994\n",
              "Night with public lighting not lit      27423\n",
              "Name: lighting_condition, dtype: int64"
            ]
          },
          "metadata": {},
          "execution_count": 59
        }
      ]
    },
    {
      "cell_type": "code",
      "source": [
        "replacement_dict = {1:'Out of agglomeration',\n",
        "    2: 'In built-up areas'}\n",
        "\n",
        "data['localisation'] = data['localisation'].replace(replacement_dict)\n",
        "data"
      ],
      "metadata": {
        "colab": {
          "base_uri": "https://localhost:8080/",
          "height": 635
        },
        "id": "pwohoz47KokD",
        "outputId": "6791a8dd-6864-4a0d-f3b1-03f61e301121"
      },
      "execution_count": null,
      "outputs": [
        {
          "output_type": "execute_result",
          "data": {
            "text/plain": [
              "         Unnamed: 0   Accident_ID  year_of_acc  month_of_acc  day_of acc  \\\n",
              "0                 0  201600000001         2016             2           1   \n",
              "1                 1  201600000001         2016             2           1   \n",
              "2                 2  201600000001         2016             2           1   \n",
              "3                 3  201600000001         2016             2           1   \n",
              "4                 4  201600000002         2016             3          16   \n",
              "...             ...           ...          ...           ...         ...   \n",
              "3553971     3553971  200500087953         2005            12          27   \n",
              "3553972     3553972  200500087953         2005            12          27   \n",
              "3553973     3553973  200500087953         2005            12          27   \n",
              "3553974     3553974  200500087954         2005            12          31   \n",
              "3553975     3553975  200500087954         2005            12          31   \n",
              "\n",
              "         acc_tim_in_hour_min             lighting_condition  \\\n",
              "0                       1445                       full_day   \n",
              "1                       1445                       full_day   \n",
              "2                       1445                       full_day   \n",
              "3                       1445                       full_day   \n",
              "4                       1800                       full_day   \n",
              "...                      ...                            ...   \n",
              "3553971                 1500                       full_day   \n",
              "3553972                 1500                       full_day   \n",
              "3553973                 1500                       full_day   \n",
              "3553974                 2100  Night with public lighting on   \n",
              "3553975                 2100  Night with public lighting on   \n",
              "\n",
              "              localisation   Type_of_Intersection  Atmospheric_conditions  \\\n",
              "0        In built-up areas                      1                     8.0   \n",
              "1        In built-up areas                      1                     8.0   \n",
              "2        In built-up areas                      1                     8.0   \n",
              "3        In built-up areas                      1                     8.0   \n",
              "4        In built-up areas                      6                     1.0   \n",
              "...                    ...                    ...                     ...   \n",
              "3553971  In built-up areas                      3                     2.0   \n",
              "3553972  In built-up areas                      3                     2.0   \n",
              "3553973  In built-up areas                      3                     2.0   \n",
              "3553974  In built-up areas                      1                     2.0   \n",
              "3553975  In built-up areas                      1                     2.0   \n",
              "\n",
              "         ...  Situation_of_Accident  School_point  Flow_direction  \\\n",
              "0        ...                    1.0           0.0             0.0   \n",
              "1        ...                    1.0           0.0             0.0   \n",
              "2        ...                    1.0           0.0             0.0   \n",
              "3        ...                    1.0           0.0             0.0   \n",
              "4        ...                    1.0           0.0             0.0   \n",
              "...      ...                    ...           ...             ...   \n",
              "3553971  ...                    1.0           0.0             0.0   \n",
              "3553972  ...                    1.0           0.0             0.0   \n",
              "3553973  ...                    1.0           0.0             0.0   \n",
              "3553974  ...                    1.0           0.0             0.0   \n",
              "3553975  ...                    1.0           0.0             0.0   \n",
              "\n",
              "        catagory_veh  occupants_num  obstacles_fixed  obstacle_mobile  shock  \\\n",
              "0                  7              0              0.0              0.0    1.0   \n",
              "1                  2              0              0.0              0.0    7.0   \n",
              "2                  7              0              0.0              0.0    1.0   \n",
              "3                  2              0              0.0              0.0    7.0   \n",
              "4                  7              0              6.0              0.0    1.0   \n",
              "...              ...            ...              ...              ...    ...   \n",
              "3553971            7              0              0.0              2.0    3.0   \n",
              "3553972            2              0              0.0              2.0    1.0   \n",
              "3553973            7              0              0.0              2.0    1.0   \n",
              "3553974            7              0              4.0              0.0    0.0   \n",
              "3553975            7              0              4.0              0.0    0.0   \n",
              "\n",
              "         maneuver  num_veh_y  \n",
              "0             1.0        B02  \n",
              "1            15.0        A01  \n",
              "2             1.0        B02  \n",
              "3            15.0        A01  \n",
              "4             1.0        A01  \n",
              "...           ...        ...  \n",
              "3553971      19.0        B01  \n",
              "3553972      17.0        A01  \n",
              "3553973       1.0        C01  \n",
              "3553974       1.0        A01  \n",
              "3553975       1.0        A01  \n",
              "\n",
              "[3553976 rows x 46 columns]"
            ],
            "text/html": [
              "\n",
              "  <div id=\"df-b790c756-f5d6-4203-8301-f142940e8b37\" class=\"colab-df-container\">\n",
              "    <div>\n",
              "<style scoped>\n",
              "    .dataframe tbody tr th:only-of-type {\n",
              "        vertical-align: middle;\n",
              "    }\n",
              "\n",
              "    .dataframe tbody tr th {\n",
              "        vertical-align: top;\n",
              "    }\n",
              "\n",
              "    .dataframe thead th {\n",
              "        text-align: right;\n",
              "    }\n",
              "</style>\n",
              "<table border=\"1\" class=\"dataframe\">\n",
              "  <thead>\n",
              "    <tr style=\"text-align: right;\">\n",
              "      <th></th>\n",
              "      <th>Unnamed: 0</th>\n",
              "      <th>Accident_ID</th>\n",
              "      <th>year_of_acc</th>\n",
              "      <th>month_of_acc</th>\n",
              "      <th>day_of acc</th>\n",
              "      <th>acc_tim_in_hour_min</th>\n",
              "      <th>lighting_condition</th>\n",
              "      <th>localisation</th>\n",
              "      <th>Type_of_Intersection</th>\n",
              "      <th>Atmospheric_conditions</th>\n",
              "      <th>...</th>\n",
              "      <th>Situation_of_Accident</th>\n",
              "      <th>School_point</th>\n",
              "      <th>Flow_direction</th>\n",
              "      <th>catagory_veh</th>\n",
              "      <th>occupants_num</th>\n",
              "      <th>obstacles_fixed</th>\n",
              "      <th>obstacle_mobile</th>\n",
              "      <th>shock</th>\n",
              "      <th>maneuver</th>\n",
              "      <th>num_veh_y</th>\n",
              "    </tr>\n",
              "  </thead>\n",
              "  <tbody>\n",
              "    <tr>\n",
              "      <th>0</th>\n",
              "      <td>0</td>\n",
              "      <td>201600000001</td>\n",
              "      <td>2016</td>\n",
              "      <td>2</td>\n",
              "      <td>1</td>\n",
              "      <td>1445</td>\n",
              "      <td>full_day</td>\n",
              "      <td>In built-up areas</td>\n",
              "      <td>1</td>\n",
              "      <td>8.0</td>\n",
              "      <td>...</td>\n",
              "      <td>1.0</td>\n",
              "      <td>0.0</td>\n",
              "      <td>0.0</td>\n",
              "      <td>7</td>\n",
              "      <td>0</td>\n",
              "      <td>0.0</td>\n",
              "      <td>0.0</td>\n",
              "      <td>1.0</td>\n",
              "      <td>1.0</td>\n",
              "      <td>B02</td>\n",
              "    </tr>\n",
              "    <tr>\n",
              "      <th>1</th>\n",
              "      <td>1</td>\n",
              "      <td>201600000001</td>\n",
              "      <td>2016</td>\n",
              "      <td>2</td>\n",
              "      <td>1</td>\n",
              "      <td>1445</td>\n",
              "      <td>full_day</td>\n",
              "      <td>In built-up areas</td>\n",
              "      <td>1</td>\n",
              "      <td>8.0</td>\n",
              "      <td>...</td>\n",
              "      <td>1.0</td>\n",
              "      <td>0.0</td>\n",
              "      <td>0.0</td>\n",
              "      <td>2</td>\n",
              "      <td>0</td>\n",
              "      <td>0.0</td>\n",
              "      <td>0.0</td>\n",
              "      <td>7.0</td>\n",
              "      <td>15.0</td>\n",
              "      <td>A01</td>\n",
              "    </tr>\n",
              "    <tr>\n",
              "      <th>2</th>\n",
              "      <td>2</td>\n",
              "      <td>201600000001</td>\n",
              "      <td>2016</td>\n",
              "      <td>2</td>\n",
              "      <td>1</td>\n",
              "      <td>1445</td>\n",
              "      <td>full_day</td>\n",
              "      <td>In built-up areas</td>\n",
              "      <td>1</td>\n",
              "      <td>8.0</td>\n",
              "      <td>...</td>\n",
              "      <td>1.0</td>\n",
              "      <td>0.0</td>\n",
              "      <td>0.0</td>\n",
              "      <td>7</td>\n",
              "      <td>0</td>\n",
              "      <td>0.0</td>\n",
              "      <td>0.0</td>\n",
              "      <td>1.0</td>\n",
              "      <td>1.0</td>\n",
              "      <td>B02</td>\n",
              "    </tr>\n",
              "    <tr>\n",
              "      <th>3</th>\n",
              "      <td>3</td>\n",
              "      <td>201600000001</td>\n",
              "      <td>2016</td>\n",
              "      <td>2</td>\n",
              "      <td>1</td>\n",
              "      <td>1445</td>\n",
              "      <td>full_day</td>\n",
              "      <td>In built-up areas</td>\n",
              "      <td>1</td>\n",
              "      <td>8.0</td>\n",
              "      <td>...</td>\n",
              "      <td>1.0</td>\n",
              "      <td>0.0</td>\n",
              "      <td>0.0</td>\n",
              "      <td>2</td>\n",
              "      <td>0</td>\n",
              "      <td>0.0</td>\n",
              "      <td>0.0</td>\n",
              "      <td>7.0</td>\n",
              "      <td>15.0</td>\n",
              "      <td>A01</td>\n",
              "    </tr>\n",
              "    <tr>\n",
              "      <th>4</th>\n",
              "      <td>4</td>\n",
              "      <td>201600000002</td>\n",
              "      <td>2016</td>\n",
              "      <td>3</td>\n",
              "      <td>16</td>\n",
              "      <td>1800</td>\n",
              "      <td>full_day</td>\n",
              "      <td>In built-up areas</td>\n",
              "      <td>6</td>\n",
              "      <td>1.0</td>\n",
              "      <td>...</td>\n",
              "      <td>1.0</td>\n",
              "      <td>0.0</td>\n",
              "      <td>0.0</td>\n",
              "      <td>7</td>\n",
              "      <td>0</td>\n",
              "      <td>6.0</td>\n",
              "      <td>0.0</td>\n",
              "      <td>1.0</td>\n",
              "      <td>1.0</td>\n",
              "      <td>A01</td>\n",
              "    </tr>\n",
              "    <tr>\n",
              "      <th>...</th>\n",
              "      <td>...</td>\n",
              "      <td>...</td>\n",
              "      <td>...</td>\n",
              "      <td>...</td>\n",
              "      <td>...</td>\n",
              "      <td>...</td>\n",
              "      <td>...</td>\n",
              "      <td>...</td>\n",
              "      <td>...</td>\n",
              "      <td>...</td>\n",
              "      <td>...</td>\n",
              "      <td>...</td>\n",
              "      <td>...</td>\n",
              "      <td>...</td>\n",
              "      <td>...</td>\n",
              "      <td>...</td>\n",
              "      <td>...</td>\n",
              "      <td>...</td>\n",
              "      <td>...</td>\n",
              "      <td>...</td>\n",
              "      <td>...</td>\n",
              "    </tr>\n",
              "    <tr>\n",
              "      <th>3553971</th>\n",
              "      <td>3553971</td>\n",
              "      <td>200500087953</td>\n",
              "      <td>2005</td>\n",
              "      <td>12</td>\n",
              "      <td>27</td>\n",
              "      <td>1500</td>\n",
              "      <td>full_day</td>\n",
              "      <td>In built-up areas</td>\n",
              "      <td>3</td>\n",
              "      <td>2.0</td>\n",
              "      <td>...</td>\n",
              "      <td>1.0</td>\n",
              "      <td>0.0</td>\n",
              "      <td>0.0</td>\n",
              "      <td>7</td>\n",
              "      <td>0</td>\n",
              "      <td>0.0</td>\n",
              "      <td>2.0</td>\n",
              "      <td>3.0</td>\n",
              "      <td>19.0</td>\n",
              "      <td>B01</td>\n",
              "    </tr>\n",
              "    <tr>\n",
              "      <th>3553972</th>\n",
              "      <td>3553972</td>\n",
              "      <td>200500087953</td>\n",
              "      <td>2005</td>\n",
              "      <td>12</td>\n",
              "      <td>27</td>\n",
              "      <td>1500</td>\n",
              "      <td>full_day</td>\n",
              "      <td>In built-up areas</td>\n",
              "      <td>3</td>\n",
              "      <td>2.0</td>\n",
              "      <td>...</td>\n",
              "      <td>1.0</td>\n",
              "      <td>0.0</td>\n",
              "      <td>0.0</td>\n",
              "      <td>2</td>\n",
              "      <td>0</td>\n",
              "      <td>0.0</td>\n",
              "      <td>2.0</td>\n",
              "      <td>1.0</td>\n",
              "      <td>17.0</td>\n",
              "      <td>A01</td>\n",
              "    </tr>\n",
              "    <tr>\n",
              "      <th>3553973</th>\n",
              "      <td>3553973</td>\n",
              "      <td>200500087953</td>\n",
              "      <td>2005</td>\n",
              "      <td>12</td>\n",
              "      <td>27</td>\n",
              "      <td>1500</td>\n",
              "      <td>full_day</td>\n",
              "      <td>In built-up areas</td>\n",
              "      <td>3</td>\n",
              "      <td>2.0</td>\n",
              "      <td>...</td>\n",
              "      <td>1.0</td>\n",
              "      <td>0.0</td>\n",
              "      <td>0.0</td>\n",
              "      <td>7</td>\n",
              "      <td>0</td>\n",
              "      <td>0.0</td>\n",
              "      <td>2.0</td>\n",
              "      <td>1.0</td>\n",
              "      <td>1.0</td>\n",
              "      <td>C01</td>\n",
              "    </tr>\n",
              "    <tr>\n",
              "      <th>3553974</th>\n",
              "      <td>3553974</td>\n",
              "      <td>200500087954</td>\n",
              "      <td>2005</td>\n",
              "      <td>12</td>\n",
              "      <td>31</td>\n",
              "      <td>2100</td>\n",
              "      <td>Night with public lighting on</td>\n",
              "      <td>In built-up areas</td>\n",
              "      <td>1</td>\n",
              "      <td>2.0</td>\n",
              "      <td>...</td>\n",
              "      <td>1.0</td>\n",
              "      <td>0.0</td>\n",
              "      <td>0.0</td>\n",
              "      <td>7</td>\n",
              "      <td>0</td>\n",
              "      <td>4.0</td>\n",
              "      <td>0.0</td>\n",
              "      <td>0.0</td>\n",
              "      <td>1.0</td>\n",
              "      <td>A01</td>\n",
              "    </tr>\n",
              "    <tr>\n",
              "      <th>3553975</th>\n",
              "      <td>3553975</td>\n",
              "      <td>200500087954</td>\n",
              "      <td>2005</td>\n",
              "      <td>12</td>\n",
              "      <td>31</td>\n",
              "      <td>2100</td>\n",
              "      <td>Night with public lighting on</td>\n",
              "      <td>In built-up areas</td>\n",
              "      <td>1</td>\n",
              "      <td>2.0</td>\n",
              "      <td>...</td>\n",
              "      <td>1.0</td>\n",
              "      <td>0.0</td>\n",
              "      <td>0.0</td>\n",
              "      <td>7</td>\n",
              "      <td>0</td>\n",
              "      <td>4.0</td>\n",
              "      <td>0.0</td>\n",
              "      <td>0.0</td>\n",
              "      <td>1.0</td>\n",
              "      <td>A01</td>\n",
              "    </tr>\n",
              "  </tbody>\n",
              "</table>\n",
              "<p>3553976 rows × 46 columns</p>\n",
              "</div>\n",
              "    <div class=\"colab-df-buttons\">\n",
              "\n",
              "  <div class=\"colab-df-container\">\n",
              "    <button class=\"colab-df-convert\" onclick=\"convertToInteractive('df-b790c756-f5d6-4203-8301-f142940e8b37')\"\n",
              "            title=\"Convert this dataframe to an interactive table.\"\n",
              "            style=\"display:none;\">\n",
              "\n",
              "  <svg xmlns=\"http://www.w3.org/2000/svg\" height=\"24px\" viewBox=\"0 -960 960 960\">\n",
              "    <path d=\"M120-120v-720h720v720H120Zm60-500h600v-160H180v160Zm220 220h160v-160H400v160Zm0 220h160v-160H400v160ZM180-400h160v-160H180v160Zm440 0h160v-160H620v160ZM180-180h160v-160H180v160Zm440 0h160v-160H620v160Z\"/>\n",
              "  </svg>\n",
              "    </button>\n",
              "\n",
              "  <style>\n",
              "    .colab-df-container {\n",
              "      display:flex;\n",
              "      gap: 12px;\n",
              "    }\n",
              "\n",
              "    .colab-df-convert {\n",
              "      background-color: #E8F0FE;\n",
              "      border: none;\n",
              "      border-radius: 50%;\n",
              "      cursor: pointer;\n",
              "      display: none;\n",
              "      fill: #1967D2;\n",
              "      height: 32px;\n",
              "      padding: 0 0 0 0;\n",
              "      width: 32px;\n",
              "    }\n",
              "\n",
              "    .colab-df-convert:hover {\n",
              "      background-color: #E2EBFA;\n",
              "      box-shadow: 0px 1px 2px rgba(60, 64, 67, 0.3), 0px 1px 3px 1px rgba(60, 64, 67, 0.15);\n",
              "      fill: #174EA6;\n",
              "    }\n",
              "\n",
              "    .colab-df-buttons div {\n",
              "      margin-bottom: 4px;\n",
              "    }\n",
              "\n",
              "    [theme=dark] .colab-df-convert {\n",
              "      background-color: #3B4455;\n",
              "      fill: #D2E3FC;\n",
              "    }\n",
              "\n",
              "    [theme=dark] .colab-df-convert:hover {\n",
              "      background-color: #434B5C;\n",
              "      box-shadow: 0px 1px 3px 1px rgba(0, 0, 0, 0.15);\n",
              "      filter: drop-shadow(0px 1px 2px rgba(0, 0, 0, 0.3));\n",
              "      fill: #FFFFFF;\n",
              "    }\n",
              "  </style>\n",
              "\n",
              "    <script>\n",
              "      const buttonEl =\n",
              "        document.querySelector('#df-b790c756-f5d6-4203-8301-f142940e8b37 button.colab-df-convert');\n",
              "      buttonEl.style.display =\n",
              "        google.colab.kernel.accessAllowed ? 'block' : 'none';\n",
              "\n",
              "      async function convertToInteractive(key) {\n",
              "        const element = document.querySelector('#df-b790c756-f5d6-4203-8301-f142940e8b37');\n",
              "        const dataTable =\n",
              "          await google.colab.kernel.invokeFunction('convertToInteractive',\n",
              "                                                    [key], {});\n",
              "        if (!dataTable) return;\n",
              "\n",
              "        const docLinkHtml = 'Like what you see? Visit the ' +\n",
              "          '<a target=\"_blank\" href=https://colab.research.google.com/notebooks/data_table.ipynb>data table notebook</a>'\n",
              "          + ' to learn more about interactive tables.';\n",
              "        element.innerHTML = '';\n",
              "        dataTable['output_type'] = 'display_data';\n",
              "        await google.colab.output.renderOutput(dataTable, element);\n",
              "        const docLink = document.createElement('div');\n",
              "        docLink.innerHTML = docLinkHtml;\n",
              "        element.appendChild(docLink);\n",
              "      }\n",
              "    </script>\n",
              "  </div>\n",
              "\n",
              "\n",
              "<div id=\"df-ec6446e1-5042-468e-a04e-b79b050055db\">\n",
              "  <button class=\"colab-df-quickchart\" onclick=\"quickchart('df-ec6446e1-5042-468e-a04e-b79b050055db')\"\n",
              "            title=\"Suggest charts.\"\n",
              "            style=\"display:none;\">\n",
              "\n",
              "<svg xmlns=\"http://www.w3.org/2000/svg\" height=\"24px\"viewBox=\"0 0 24 24\"\n",
              "     width=\"24px\">\n",
              "    <g>\n",
              "        <path d=\"M19 3H5c-1.1 0-2 .9-2 2v14c0 1.1.9 2 2 2h14c1.1 0 2-.9 2-2V5c0-1.1-.9-2-2-2zM9 17H7v-7h2v7zm4 0h-2V7h2v10zm4 0h-2v-4h2v4z\"/>\n",
              "    </g>\n",
              "</svg>\n",
              "  </button>\n",
              "\n",
              "<style>\n",
              "  .colab-df-quickchart {\n",
              "    background-color: #E8F0FE;\n",
              "    border: none;\n",
              "    border-radius: 50%;\n",
              "    cursor: pointer;\n",
              "    display: none;\n",
              "    fill: #1967D2;\n",
              "    height: 32px;\n",
              "    padding: 0 0 0 0;\n",
              "    width: 32px;\n",
              "  }\n",
              "\n",
              "  .colab-df-quickchart:hover {\n",
              "    background-color: #E2EBFA;\n",
              "    box-shadow: 0px 1px 2px rgba(60, 64, 67, 0.3), 0px 1px 3px 1px rgba(60, 64, 67, 0.15);\n",
              "    fill: #174EA6;\n",
              "  }\n",
              "\n",
              "  [theme=dark] .colab-df-quickchart {\n",
              "    background-color: #3B4455;\n",
              "    fill: #D2E3FC;\n",
              "  }\n",
              "\n",
              "  [theme=dark] .colab-df-quickchart:hover {\n",
              "    background-color: #434B5C;\n",
              "    box-shadow: 0px 1px 3px 1px rgba(0, 0, 0, 0.15);\n",
              "    filter: drop-shadow(0px 1px 2px rgba(0, 0, 0, 0.3));\n",
              "    fill: #FFFFFF;\n",
              "  }\n",
              "</style>\n",
              "\n",
              "  <script>\n",
              "    async function quickchart(key) {\n",
              "      const charts = await google.colab.kernel.invokeFunction(\n",
              "          'suggestCharts', [key], {});\n",
              "    }\n",
              "    (() => {\n",
              "      let quickchartButtonEl =\n",
              "        document.querySelector('#df-ec6446e1-5042-468e-a04e-b79b050055db button');\n",
              "      quickchartButtonEl.style.display =\n",
              "        google.colab.kernel.accessAllowed ? 'block' : 'none';\n",
              "    })();\n",
              "  </script>\n",
              "</div>\n",
              "    </div>\n",
              "  </div>\n"
            ]
          },
          "metadata": {},
          "execution_count": 60
        }
      ]
    },
    {
      "cell_type": "code",
      "source": [
        "data['localisation'].value_counts()"
      ],
      "metadata": {
        "colab": {
          "base_uri": "https://localhost:8080/"
        },
        "id": "py8LVN76RiRB",
        "outputId": "e57e7e0f-5951-4679-ea26-b3449a496ee1"
      },
      "execution_count": null,
      "outputs": [
        {
          "output_type": "execute_result",
          "data": {
            "text/plain": [
              "In built-up areas       2245548\n",
              "Out of agglomeration    1308428\n",
              "Name: localisation, dtype: int64"
            ]
          },
          "metadata": {},
          "execution_count": 61
        }
      ]
    },
    {
      "cell_type": "code",
      "source": [
        "\n",
        "data.dtypes"
      ],
      "metadata": {
        "colab": {
          "base_uri": "https://localhost:8080/"
        },
        "id": "7IGDLHj_VrKC",
        "outputId": "a7c71f83-7354-425c-aace-6bbfa5fb21d7"
      },
      "execution_count": null,
      "outputs": [
        {
          "output_type": "execute_result",
          "data": {
            "text/plain": [
              "Unnamed: 0                              int64\n",
              "Accident_ID                             int64\n",
              "year_of_acc                             int64\n",
              "month_of_acc                            int64\n",
              "day_of acc                              int64\n",
              "acc_tim_in_hour_min                     int64\n",
              "lighting_condition                     object\n",
              "localisation                           object\n",
              " Type_of_Intersection                   int64\n",
              "Atmospheric_conditions                float64\n",
              "type_of_collision                     float64\n",
              "Municipality                          float64\n",
              "Departmeent                             int64\n",
              "date                                   object\n",
              "place                                 float64\n",
              "User_category                           int64\n",
              " Severity_of_the_accident               int64\n",
              "sex                                     int64\n",
              "route                                 float64\n",
              " safety_equipment                     float64\n",
              " Location_of_the_pedestrian           float64\n",
              " Action_of_the_pedestrian             float64\n",
              "injured_pedestrian_was_alone_or_no    float64\n",
              " Year_of_birth                        float64\n",
              "num_veh_x                              object\n",
              "Category_of_Road                      float64\n",
              "Road_Number                            object\n",
              "Traffic_regime                        float64\n",
              "numof_traffic_lanes                   float64\n",
              "Reserved_Lane                         float64\n",
              "Longitudinal Profile                  float64\n",
              "Drawing_in_Plan                       float64\n",
              "Central_Solid_Land                    float64\n",
              "Width_assigned_to_vehicle             float64\n",
              "Surface_Condition                     float64\n",
              "Development-Infrastructure            float64\n",
              "Situation_of_Accident                 float64\n",
              "School_point                          float64\n",
              "Flow_direction                        float64\n",
              "catagory_veh                            int64\n",
              "occupants_num                           int64\n",
              "obstacles_fixed                       float64\n",
              "obstacle_mobile                       float64\n",
              "shock                                 float64\n",
              "maneuver                              float64\n",
              "num_veh_y                              object\n",
              "dtype: object"
            ]
          },
          "metadata": {},
          "execution_count": 62
        }
      ]
    },
    {
      "cell_type": "code",
      "source": [
        "diction={1:'Out of intersection',2:'Intersection in X',3:'Intersection in T',\n",
        "4:'Intersection in Y',\n",
        "5:'Intersection with more than 4 branches',\n",
        "6:'Giratory',\n",
        "7:'Place',\n",
        "8:'Level crossing',\n",
        "9:'Other intersection'}\n",
        "data[' Type_of_Intersection'] = data[' Type_of_Intersection'].replace(diction)\n",
        "\n"
      ],
      "metadata": {
        "id": "GyxeYwA6TZu0"
      },
      "execution_count": null,
      "outputs": []
    },
    {
      "cell_type": "code",
      "source": [
        "data[' Type_of_Intersection'].value_counts()"
      ],
      "metadata": {
        "colab": {
          "base_uri": "https://localhost:8080/"
        },
        "id": "cwQl0w0QTDPg",
        "outputId": "dbddbd2c-2a3e-4f48-8869-1a11b232f51e"
      },
      "execution_count": null,
      "outputs": [
        {
          "output_type": "execute_result",
          "data": {
            "text/plain": [
              "Out of intersection                       2517633\n",
              "Intersection in X                          466937\n",
              "Intersection in T                          318321\n",
              "Giratory                                    84934\n",
              "Other intersection                          57038\n",
              "Intersection in Y                           47922\n",
              "Intersection with more than 4 branches      35783\n",
              "Place                                       21133\n",
              "Level crossing                               3778\n",
              "0                                             497\n",
              "Name:  Type_of_Intersection, dtype: int64"
            ]
          },
          "metadata": {},
          "execution_count": 64
        }
      ]
    },
    {
      "cell_type": "code",
      "source": [
        "dictiona={1:'Normal',\n",
        "2:'Light rain',\n",
        "\n",
        "3:'Heavy rain',\n",
        "\n",
        "4:'Snow - hail',\n",
        "\n",
        "5:'Fog - smoke',\n",
        "\n",
        "6:'Strong wind - storm',\n",
        "\n",
        "7:'Dazzling weather',\n",
        "\n",
        "8:'Cloudy weather',\n",
        "\n",
        "9:'Other'}\n",
        "data['Atmospheric_conditions'] = data['Atmospheric_conditions'].replace(dictiona)\n",
        "\n"
      ],
      "metadata": {
        "id": "MZL6-RM4Lk4A"
      },
      "execution_count": null,
      "outputs": []
    },
    {
      "cell_type": "code",
      "source": [
        "data['Atmospheric_conditions'].value_counts()"
      ],
      "metadata": {
        "colab": {
          "base_uri": "https://localhost:8080/"
        },
        "id": "V--fzoKGLuUD",
        "outputId": "acec15cb-7433-4861-928d-17ffde27a38d"
      },
      "execution_count": null,
      "outputs": [
        {
          "output_type": "execute_result",
          "data": {
            "text/plain": [
              "Normal                 2867852\n",
              "Light rain              356757\n",
              "Cloudy weather          119126\n",
              "Heavy rain               76740\n",
              "Fog - smoke              39008\n",
              "Dazzling weather         33817\n",
              "Snow - hail              27405\n",
              "Other                    25156\n",
              "Strong wind - storm       7907\n",
              "Name: Atmospheric_conditions, dtype: int64"
            ]
          },
          "metadata": {},
          "execution_count": 66
        }
      ]
    },
    {
      "cell_type": "code",
      "source": [
        "dictionary={1:'Two vehicles - frontal',\n",
        "\n",
        "2:'Two vehicles - from the rear',\n",
        "\n",
        "3:'Two vehicles - by the side',\n",
        "\n",
        "4:'Three vehicles and more - in chain',\n",
        "\n",
        "5:'Three or more vehicles - multiple collisions',\n",
        "\n",
        "6:'Other collision',\n",
        "\n",
        "7:'Without collision'\n",
        "\n",
        "}\n",
        "data['type_of_collision']=data['type_of_collision'].replace(dictionary)"
      ],
      "metadata": {
        "id": "InlIcz9rXQOJ"
      },
      "execution_count": null,
      "outputs": []
    },
    {
      "cell_type": "code",
      "source": [
        "data['type_of_collision'].value_counts()"
      ],
      "metadata": {
        "colab": {
          "base_uri": "https://localhost:8080/"
        },
        "id": "UyKs-o39YVdn",
        "outputId": "77038ae4-c348-4298-cfac-96f5a2fb22c7"
      },
      "execution_count": null,
      "outputs": [
        {
          "output_type": "execute_result",
          "data": {
            "text/plain": [
              "Two vehicles - by the side                      1138625\n",
              "Other collision                                  635431\n",
              "Two vehicles - from the rear                     461584\n",
              "Two vehicles - frontal                           427320\n",
              "Three or more vehicles - multiple collisions     384942\n",
              "Three vehicles and more - in chain               365031\n",
              "Without collision                                140993\n",
              "Name: type_of_collision, dtype: int64"
            ]
          },
          "metadata": {},
          "execution_count": 68
        }
      ]
    },
    {
      "cell_type": "code",
      "source": [
        "data['place'].value_counts()"
      ],
      "metadata": {
        "colab": {
          "base_uri": "https://localhost:8080/"
        },
        "id": "GvrGv_2OYZQW",
        "outputId": "66d4a8c4-ab9c-41a8-df7f-16b2248dce28"
      },
      "execution_count": null,
      "outputs": [
        {
          "output_type": "execute_result",
          "data": {
            "text/plain": [
              "1.0    2765834\n",
              "2.0     388802\n",
              "3.0      90536\n",
              "4.0      77364\n",
              "0.0      65398\n",
              "5.0      44196\n",
              "8.0       8581\n",
              "7.0       3947\n",
              "6.0       3042\n",
              "9.0       2186\n",
              "Name: place, dtype: int64"
            ]
          },
          "metadata": {},
          "execution_count": 69
        }
      ]
    },
    {
      "cell_type": "code",
      "source": [
        "di={1:'Driver',\n",
        "2:'Passenger',\n",
        "3:'Pedestrian',\n",
        "4:'Pedestrian in rollerblade or scooter'}\n",
        "data['User_category']=data['User_category'].replace(di)\n",
        "\n"
      ],
      "metadata": {
        "id": "zX09ZYgAa6W5"
      },
      "execution_count": null,
      "outputs": []
    },
    {
      "cell_type": "code",
      "source": [
        "data['User_category'].value_counts()"
      ],
      "metadata": {
        "colab": {
          "base_uri": "https://localhost:8080/"
        },
        "id": "T5PB2QrUZXFp",
        "outputId": "5f5a2549-4992-4351-c0fd-64e2269d151f"
      },
      "execution_count": null,
      "outputs": [
        {
          "output_type": "execute_result",
          "data": {
            "text/plain": [
              "Driver                                  2761937\n",
              "Passenger                                626793\n",
              "Pedestrian                               161840\n",
              "Pedestrian in rollerblade or scooter       3406\n",
              "Name: User_category, dtype: int64"
            ]
          },
          "metadata": {},
          "execution_count": 71
        }
      ]
    },
    {
      "cell_type": "code",
      "source": [
        "d={\n",
        "1:'Unscathed',2:'Killed',\n",
        "\n",
        "3:'Hospitalized wounded',\n",
        "\n",
        "4:'Light injury'\n",
        "}\n",
        "data[' Severity_of_the_accident']=data[' Severity_of_the_accident'].replace(d)\n"
      ],
      "metadata": {
        "id": "sKKbDgJlal8u"
      },
      "execution_count": null,
      "outputs": []
    },
    {
      "cell_type": "code",
      "source": [
        "data[' Severity_of_the_accident'].value_counts()"
      ],
      "metadata": {
        "colab": {
          "base_uri": "https://localhost:8080/"
        },
        "id": "Yg7pmV5kcN9B",
        "outputId": "cce6622b-706c-4010-c288-8c96091f6a56"
      },
      "execution_count": null,
      "outputs": [
        {
          "output_type": "execute_result",
          "data": {
            "text/plain": [
              "Unscathed               1562171\n",
              "Light injury            1240898\n",
              "Hospitalized wounded     668756\n",
              "Killed                    82151\n",
              "Name:  Severity_of_the_accident, dtype: int64"
            ]
          },
          "metadata": {},
          "execution_count": 73
        }
      ]
    },
    {
      "cell_type": "code",
      "source": [
        "dat={\n",
        "1:'Male',\n",
        "2:'Female'\n",
        "}\n",
        "data['sex']=data['sex'].replace(dat)\n"
      ],
      "metadata": {
        "id": "n59OGlK8cSBV"
      },
      "execution_count": null,
      "outputs": []
    },
    {
      "cell_type": "code",
      "source": [
        "data['sex'].value_counts()"
      ],
      "metadata": {
        "colab": {
          "base_uri": "https://localhost:8080/"
        },
        "id": "QlrU6oBGcwoN",
        "outputId": "24f965aa-2337-44c2-ea81-b9641e0ee3a8"
      },
      "execution_count": null,
      "outputs": [
        {
          "output_type": "execute_result",
          "data": {
            "text/plain": [
              "Male      2391347\n",
              "Female    1162629\n",
              "Name: sex, dtype: int64"
            ]
          },
          "metadata": {},
          "execution_count": 75
        }
      ]
    },
    {
      "cell_type": "code",
      "source": [],
      "metadata": {
        "id": "1YPxdx2Mc4te"
      },
      "execution_count": null,
      "outputs": []
    },
    {
      "cell_type": "code",
      "source": [
        " d={1:'Home - work',\n",
        "\n",
        "2:'Home - school',\n",
        "\n",
        "3:'Shopping - Shopping',\n",
        "\n",
        "4 :'Professional use',\n",
        "\n",
        "5:'Promenade - leisure',\n",
        "\n",
        "9:'Other'}\n",
        "data['route']=data['route'].replace(d)"
      ],
      "metadata": {
        "id": "nILO07irdTnE"
      },
      "execution_count": null,
      "outputs": []
    },
    {
      "cell_type": "code",
      "source": [
        "data['route'].value_counts()"
      ],
      "metadata": {
        "colab": {
          "base_uri": "https://localhost:8080/"
        },
        "id": "ZUh0sEoghDJc",
        "outputId": "3252f55f-20d3-4466-d82c-d5beb9783548"
      },
      "execution_count": null,
      "outputs": [
        {
          "output_type": "execute_result",
          "data": {
            "text/plain": [
              "Promenade - leisure    1261744\n",
              "0.0                    1062505\n",
              "Home - work             483541\n",
              "Professional use        370068\n",
              "Other                   235357\n",
              "Shopping - Shopping      80309\n",
              "Home - school            59624\n",
              "Name: route, dtype: int64"
            ]
          },
          "metadata": {},
          "execution_count": 77
        }
      ]
    },
    {
      "cell_type": "code",
      "source": [
        "f={11:'belt-yes',\n",
        "21:'Helmet-yes',\n",
        "13:'belt-Not determinable',\n",
        "93:'other-not determinable' ,\n",
        "23:'Helmet-not determinable',\n",
        "12:'belt-no',\n",
        "22:'helmet-no',\n",
        "31:'Childrens device-yes',\n",
        "91:' Other-yes',\n",
        "10:'belt-',\n",
        "92:'other-no',\n",
        "1:'belt',\n",
        "41:'reflective equipment-yes',\n",
        "43:' Reflective equipment-Not determinable',\n",
        "42:'Reflective equipment-yes',\n",
        "33:'Childrens device-Not determinable',\n",
        "20:'helmet-',\n",
        "32:'Childrens device-no',\n",
        "2:'helmet',\n",
        "3:'Childrens device',\n",
        "90:' Other',\n",
        "30:'Childrens device',\n",
        "40:'reflective equipment'}\n",
        "data[' safety_equipment']=data[' safety_equipment'].replace(f)\n"
      ],
      "metadata": {
        "id": "MYdq9yCyhJyp"
      },
      "execution_count": null,
      "outputs": []
    },
    {
      "cell_type": "code",
      "source": [
        " data[' safety_equipment'].value_counts()\n"
      ],
      "metadata": {
        "colab": {
          "base_uri": "https://localhost:8080/"
        },
        "id": "QWEm6g8PhRKg",
        "outputId": "c949de0c-dc0b-48b1-8289-7055082c3136"
      },
      "execution_count": null,
      "outputs": [
        {
          "output_type": "execute_result",
          "data": {
            "text/plain": [
              "belt-yes                                  2134700\n",
              "Helmet-yes                                 629830\n",
              "belt-Not determinable                      286695\n",
              "other-not determinable                     139049\n",
              "0.0                                         79538\n",
              "Helmet-not determinable                     68156\n",
              "belt-no                                     51346\n",
              "helmet-no                                   34417\n",
              "Childrens device-yes                        27316\n",
              " Other-yes                                  12363\n",
              "belt-                                       10912\n",
              "other-no                                    10793\n",
              "belt                                         6812\n",
              "reflective equipment-yes                     4433\n",
              " Reflective equipment-Not determinable       3525\n",
              "Reflective equipment-yes                     2650\n",
              "Childrens device-Not determinable            1459\n",
              "helmet-                                      1452\n",
              "Childrens device-no                          1261\n",
              "helmet                                        409\n",
              "Childrens device                              256\n",
              " Other                                        163\n",
              "reflective equipment                            3\n",
              "Name:  safety_equipment, dtype: int64"
            ]
          },
          "metadata": {},
          "execution_count": 79
        }
      ]
    },
    {
      "cell_type": "code",
      "source": [
        "#Replace values in columns\n",
        "data[' Action_of_the_pedestrian']=data[' Action_of_the_pedestrian'].replace({0:'not specified or not applicable',\n",
        "                                           1:'Meaning bumping vehicle',\n",
        "                                           2:'Opposite direction of the vehicle',\n",
        "                                           3:'Crossing',\n",
        "                                           4:'Masked',\n",
        "                                           5:'Playing - running',\n",
        "                                           6:'With animal',\n",
        "                                           9:'Other'})\n",
        "data[' Action_of_the_pedestrian'].value_counts()"
      ],
      "metadata": {
        "id": "RJoHkgQrhjwt",
        "colab": {
          "base_uri": "https://localhost:8080/"
        },
        "outputId": "ca3b11f2-99d3-405f-ae2e-0ed52a344b39"
      },
      "execution_count": null,
      "outputs": [
        {
          "output_type": "execute_result",
          "data": {
            "text/plain": [
              "not specified or not applicable      3392485\n",
              "Crossing                              117475\n",
              "Other                                  12476\n",
              "Playing - running                       9370\n",
              "Meaning bumping vehicle                 8987\n",
              "Opposite direction of the vehicle       4579\n",
              "Masked                                  2917\n",
              "With animal                              365\n",
              "Name:  Action_of_the_pedestrian, dtype: int64"
            ]
          },
          "metadata": {},
          "execution_count": 80
        }
      ]
    },
    {
      "cell_type": "code",
      "source": [
        "replacement_dict={\n",
        "    1:'Only',\n",
        "    2:'Accompanied',\n",
        "    3:'In a group'\n",
        "}\n",
        "data['injured_pedestrian_was_alone_or_no']=data['injured_pedestrian_was_alone_or_no'].replace(replacement_dict)\n",
        "data['injured_pedestrian_was_alone_or_no'].value_counts()"
      ],
      "metadata": {
        "colab": {
          "base_uri": "https://localhost:8080/"
        },
        "id": "sQ_ArrlQdNay",
        "outputId": "9eea322b-69a0-45c9-d372-cb64211fde3b"
      },
      "execution_count": null,
      "outputs": [
        {
          "output_type": "execute_result",
          "data": {
            "text/plain": [
              "0.0            3393966\n",
              "Only            116449\n",
              "Accompanied      31246\n",
              "In a group        7171\n",
              "Name: injured_pedestrian_was_alone_or_no, dtype: int64"
            ]
          },
          "metadata": {},
          "execution_count": 81
        }
      ]
    },
    {
      "cell_type": "code",
      "source": [
        "replacement_dict={\n",
        "    1:'Highway',\n",
        "    2:'National Road',\n",
        "    3:'Departmental Road',\n",
        "    4:'Communal Way',\n",
        "    5:'Off public network',\n",
        "    6:'Parking lot open to public traffic',\n",
        "    9:'other'\n",
        "}\n",
        "data['Category_of_Road']=data['Category_of_Road'].replace(replacement_dict)\n",
        "data['Category_of_Road'].value_counts()\n"
      ],
      "metadata": {
        "colab": {
          "base_uri": "https://localhost:8080/"
        },
        "id": "FKQJEoRZdWL6",
        "outputId": "778496e1-4b8b-4eb1-f8f3-67107c781b2b"
      },
      "execution_count": null,
      "outputs": [
        {
          "output_type": "execute_result",
          "data": {
            "text/plain": [
              "Communal Way                          1610545\n",
              "Departmental Road                     1126663\n",
              "Highway                                384965\n",
              "National Road                          351816\n",
              "other                                   59087\n",
              "Parking lot open to public traffic      16161\n",
              "Off public network                       4737\n",
              "Name: Category_of_Road, dtype: int64"
            ]
          },
          "metadata": {},
          "execution_count": 82
        }
      ]
    },
    {
      "cell_type": "code",
      "source": [
        "replacement_dict={\n",
        "    1:'One way',\n",
        "    2:'Bidirectional',\n",
        "    3:'Separated carriageways',\n",
        "    4:'With variable assignment channels'\n",
        "}\n",
        "data['Traffic_regime']=data['Traffic_regime'].replace(replacement_dict)\n",
        "data['Traffic_regime'].value_counts()\n"
      ],
      "metadata": {
        "colab": {
          "base_uri": "https://localhost:8080/"
        },
        "id": "5EwnqI0WdYNM",
        "outputId": "2b07d851-5cef-416b-c97c-289c4d5beb77"
      },
      "execution_count": null,
      "outputs": [
        {
          "output_type": "execute_result",
          "data": {
            "text/plain": [
              "Bidirectional                        2181674\n",
              "One way                               601496\n",
              "Separated carriageways                583315\n",
              "0.0                                   163446\n",
              "With variable assignment channels      20802\n",
              "Name: Traffic_regime, dtype: int64"
            ]
          },
          "metadata": {},
          "execution_count": 83
        }
      ]
    },
    {
      "cell_type": "code",
      "source": [
        "replacement_dict={\n",
        "    1:'Bike path',\n",
        "    2:'Cycle Bank',\n",
        "    3:'Reserved channel'\n",
        "}\n",
        "data['Reserved_Lane']=data['Reserved_Lane'].replace(replacement_dict)\n",
        "data['Reserved_Lane'].value_counts()\n"
      ],
      "metadata": {
        "colab": {
          "base_uri": "https://localhost:8080/"
        },
        "id": "O9QxN9Sqdd9T",
        "outputId": "ba10278f-2110-4632-ceb4-58ee3a842bc7"
      },
      "execution_count": null,
      "outputs": [
        {
          "output_type": "execute_result",
          "data": {
            "text/plain": [
              "0.0                 3334024\n",
              "Reserved channel      98407\n",
              "Bike path             67117\n",
              "Cycle Bank            47344\n",
              "Name: Reserved_Lane, dtype: int64"
            ]
          },
          "metadata": {},
          "execution_count": 84
        }
      ]
    },
    {
      "cell_type": "code",
      "source": [
        "replacement_dict={\n",
        "    1:'Dish',\n",
        "    2:'Slope',\n",
        "    3:'Hilltop',\n",
        "    4:'Hill bottom'\n",
        "}\n",
        "data['Longitudinal Profile']=data['Longitudinal Profile'].replace(replacement_dict)\n",
        "data['Longitudinal Profile'].value_counts()\n"
      ],
      "metadata": {
        "colab": {
          "base_uri": "https://localhost:8080/"
        },
        "id": "jhGRBKLkdjSn",
        "outputId": "7a395868-54b5-4afd-e2af-71a7eee4fed0"
      },
      "execution_count": null,
      "outputs": [
        {
          "output_type": "execute_result",
          "data": {
            "text/plain": [
              "Dish           2688706\n",
              "Slope           480567\n",
              "0.0             260410\n",
              "Hilltop          70925\n",
              "Hill bottom      48995\n",
              "Name: Longitudinal Profile, dtype: int64"
            ]
          },
          "metadata": {},
          "execution_count": 85
        }
      ]
    },
    {
      "cell_type": "code",
      "source": [
        "replacement_dict={\n",
        "    1:'Straight part',\n",
        "    2:'Curved on the left',\n",
        "    3:'Curved right',\n",
        "    4:'In \"S\"'\n",
        "}\n",
        "data['Drawing_in_Plan']=data['Drawing_in_Plan'].replace(replacement_dict)\n",
        "data['Drawing_in_Plan'].value_counts()"
      ],
      "metadata": {
        "colab": {
          "base_uri": "https://localhost:8080/"
        },
        "id": "kNDmz8sudqq2",
        "outputId": "f6a734dc-6231-4499-fd3b-84d9e2cd474b"
      },
      "execution_count": null,
      "outputs": [
        {
          "output_type": "execute_result",
          "data": {
            "text/plain": [
              "Straight part         2799365\n",
              "Curved on the left     244724\n",
              "Curved right           243929\n",
              "0.0                    220083\n",
              "In \"S\"                  41401\n",
              "Name: Drawing_in_Plan, dtype: int64"
            ]
          },
          "metadata": {},
          "execution_count": 86
        }
      ]
    },
    {
      "cell_type": "code",
      "source": [
        "replacement_dict={\n",
        "    1:'normal',\n",
        "    2:'wet',\n",
        "    3:'puddles',\n",
        "    4:'flooded',\n",
        "    5:'snow',\n",
        "    6:'mud',\n",
        "    7:'icy',\n",
        "    8:'fat-oil',\n",
        "    9:'other'\n",
        "}\n",
        "data['Surface_Condition']=data['Surface_Condition'].replace(replacement_dict)\n",
        "data['Surface_Condition'].value_counts()\n"
      ],
      "metadata": {
        "colab": {
          "base_uri": "https://localhost:8080/"
        },
        "id": "dvlXu_XWdsP4",
        "outputId": "ce27ffe9-d5f8-4d97-fa55-647af179ae7d"
      },
      "execution_count": null,
      "outputs": [
        {
          "output_type": "execute_result",
          "data": {
            "text/plain": [
              "normal     2775830\n",
              "wet         604281\n",
              "0.0         102024\n",
              "icy          26320\n",
              "other        14421\n",
              "snow         13494\n",
              "fat-oil       7406\n",
              "puddles       3272\n",
              "flooded       1545\n",
              "mud           1171\n",
              "Name: Surface_Condition, dtype: int64"
            ]
          },
          "metadata": {},
          "execution_count": 87
        }
      ]
    },
    {
      "cell_type": "code",
      "source": [
        "replacement_dict={\n",
        "    1:'Underground - tunnel',\n",
        "    2:'Bridge - autopont',\n",
        "    3:'Exchanger or connection brace',\n",
        "    4:'Railway',\n",
        "    5:'Carrefour arranged',\n",
        "    6:'Pedestrian area',\n",
        "    7:'Toll zone',\n",
        "\n",
        "}\n",
        "data['Development-Infrastructure']=data['Development-Infrastructure'].replace(replacement_dict)\n",
        "data['Development-Infrastructure'].value_counts()"
      ],
      "metadata": {
        "colab": {
          "base_uri": "https://localhost:8080/"
        },
        "id": "IJOk80yBdw7G",
        "outputId": "8668b95d-d6b0-4a83-e405-94f8071cb2c1"
      },
      "execution_count": null,
      "outputs": [
        {
          "output_type": "execute_result",
          "data": {
            "text/plain": [
              "0.0                              3130107\n",
              "Carrefour arranged                234926\n",
              "Exchanger or connection brace      59797\n",
              "Bridge - autopont                  59280\n",
              "Underground - tunnel               35446\n",
              "Pedestrian area                    13261\n",
              "Railway                            11975\n",
              "Toll zone                           3723\n",
              "Name: Development-Infrastructure, dtype: int64"
            ]
          },
          "metadata": {},
          "execution_count": 88
        }
      ]
    },
    {
      "cell_type": "code",
      "source": [
        "replacement_dict={\n",
        "    1:' On the road',\n",
        "    2:'On emergency stop band',\n",
        "    3:'On the verge',\n",
        "    4:'On the sidewalk',\n",
        "    5:'On bike path',\n",
        "\n",
        "}\n",
        "data['Situation_of_Accident']=data['Situation_of_Accident'].replace(replacement_dict)\n",
        "data['Situation_of_Accident'].value_counts()"
      ],
      "metadata": {
        "colab": {
          "base_uri": "https://localhost:8080/"
        },
        "id": "0BBnfJ0ueCYL",
        "outputId": "f291a4f5-e3a4-48f5-9073-a6acb2ca8d88"
      },
      "execution_count": null,
      "outputs": [
        {
          "output_type": "execute_result",
          "data": {
            "text/plain": [
              " On the road              3231418\n",
              "0.0                        158412\n",
              "On the verge                92231\n",
              "On the sidewalk             29484\n",
              "On emergency stop band      20390\n",
              "On bike path                17844\n",
              "Name: Situation_of_Accident, dtype: int64"
            ]
          },
          "metadata": {},
          "execution_count": 89
        }
      ]
    },
    {
      "cell_type": "code",
      "source": [
        "replacement_dict={\n",
        "    1:'increasing postal address number',\n",
        "    2:'descending postal address number',\n",
        "\n",
        "}\n",
        "data['Flow_direction']=data['Flow_direction'].replace(replacement_dict)\n",
        "data['Flow_direction'].value_counts()"
      ],
      "metadata": {
        "colab": {
          "base_uri": "https://localhost:8080/"
        },
        "id": "k_n3ErK_eTHL",
        "outputId": "a54dfad7-c430-4492-f57b-661cb93aefd9"
      },
      "execution_count": null,
      "outputs": [
        {
          "output_type": "execute_result",
          "data": {
            "text/plain": [
              "0.0                                 3305675\n",
              "increasing postal address number     155583\n",
              "descending postal address number      92549\n",
              "Name: Flow_direction, dtype: int64"
            ]
          },
          "metadata": {},
          "execution_count": 90
        }
      ]
    },
    {
      "cell_type": "code",
      "source": [
        "replacement_dict={\n",
        "    1:'Bicycle',\n",
        "    2:'Moped <50cm3',\n",
        "    3:'Cart or motor tricycle',\n",
        "    4:'Not used since 2006 (registered scooter)',\n",
        "    5:'Not used since 2006 (motorcycle)',\n",
        "    6:'Not used since 2006 (side-car)',\n",
        "    7:'VL only',\n",
        "    8:'Not used category (VL + caravan)',\n",
        "    9:'Not used category (VL + trailer)',\n",
        "    10:'VU only 1,5T <= GVW <= 3,5T with or without trailer (formerly VU only 1,5T <= GVW <= 3,5T)',\n",
        "    11: 'Reference plus utilisation depuis 2006 (VU (10) + caravane)',\n",
        "    12: 'Reference plus utilisation depuis 2006 (VU (10) + remorque)',\n",
        "    13: 'PL Seoul 3,5T < PTCA <= 7,5T',\n",
        "    14: 'PL Seoul > 7,5T',\n",
        "    15: 'PL > 3,5T + trailer',\n",
        "    16: 'Tracteur routier seul',\n",
        "    17: 'Tracteur routier + semi-remorque',\n",
        "    18: 'Reference plus utilisation depuis 2006 (transport en commun)',\n",
        "    19: 'Reference plus utilisation depuis 2006 (tramway)',\n",
        "    20: 'Engine spécial',\n",
        "    21: 'Tracteur agricole',\n",
        "    30: 'Scooter < 50 cm3',\n",
        "    31: 'Motorcycle > 50 cm et <= 125 cm',\n",
        "    32: 'Scooter >50cm et<=125cm',\n",
        "    33: 'Motorcycle',\n",
        "    34: 'Scooter',\n",
        "    35: 'Quad',\n",
        "    36: 'Quad lourd > 50 cm (Quadricycle à moteur non carrossé)',\n",
        "    37: 'Bus',\n",
        "    38: 'Autocar',\n",
        "    39: 'Train',\n",
        "    40: 'Tramway',\n",
        "    99: 'Autre vehicule'\n",
        "\n",
        "}\n",
        "data['catagory_veh']=data['catagory_veh'].replace(replacement_dict)\n",
        "data['catagory_veh'].value_counts()"
      ],
      "metadata": {
        "colab": {
          "base_uri": "https://localhost:8080/"
        },
        "id": "n8JbRM6peWws",
        "outputId": "962efde9-c834-471c-d9c5-f2e924f8786a"
      },
      "execution_count": null,
      "outputs": [
        {
          "output_type": "execute_result",
          "data": {
            "text/plain": [
              "VL only                                                                                       2357455\n",
              "Motorcycle                                                                                     202063\n",
              "VU only 1,5T <= GVW <= 3,5T with or without trailer (formerly VU only 1,5T <= GVW <= 3,5T)     184886\n",
              "Moped <50cm3                                                                                   163972\n",
              "Scooter < 50 cm3                                                                               120593\n",
              "Bicycle                                                                                        116523\n",
              "Scooter >50cm et<=125cm                                                                         59258\n",
              "Motorcycle > 50 cm et <= 125 cm                                                                 55999\n",
              "Not used since 2006 (motorcycle)                                                                45003\n",
              "PL Seoul > 7,5T                                                                                 40105\n",
              "Tracteur routier + semi-remorque                                                                32918\n",
              "PL > 3,5T + trailer                                                                             31484\n",
              "Scooter                                                                                         27586\n",
              "Bus                                                                                             24976\n",
              "Not used since 2006 (registered scooter)                                                        15071\n",
              "PL Seoul 3,5T < PTCA <= 7,5T                                                                    13343\n",
              "Autre vehicule                                                                                  12072\n",
              "Cart or motor tricycle                                                                          11695\n",
              "Autocar                                                                                         10476\n",
              "Tracteur agricole                                                                                6483\n",
              "Reference plus utilisation depuis 2006 (transport en commun)                                     6318\n",
              "Tramway                                                                                          3626\n",
              "Engine spécial                                                                                   3549\n",
              "Quad lourd > 50 cm (Quadricycle à moteur non carrossé)                                           2923\n",
              "Tracteur routier seul                                                                            1746\n",
              "Train                                                                                            1023\n",
              "Not used category (VL + trailer)                                                                  949\n",
              "Quad                                                                                              679\n",
              "Reference plus utilisation depuis 2006 (tramway)                                                  456\n",
              "Not used category (VL + caravan)                                                                  380\n",
              "Reference plus utilisation depuis 2006 (VU (10) + remorque)                                       244\n",
              "Not used since 2006 (side-car)                                                                     79\n",
              "Reference plus utilisation depuis 2006 (VU (10) + caravane)                                        43\n",
              "Name: catagory_veh, dtype: int64"
            ]
          },
          "metadata": {},
          "execution_count": 91
        }
      ]
    },
    {
      "cell_type": "code",
      "source": [
        "replacement_dict={\n",
        "1: \"Parked vehicle\",\n",
        "2: \"Tree\",\n",
        "3: \"Metal Slide\",\n",
        "4: \"Concrete slide\",\n",
        "5: \"Other slider\",\n",
        "6: \"Building, wall, bridge pier\",\n",
        "7: \"Vertical signaling support or emergency call station\",\n",
        "8: \"Post\",\n",
        "9: \"Urban furniture\",\n",
        "10: \"Parapet\",\n",
        "11: \"Island, refuge, upper boundary\",\n",
        "12: \"Curb\",\n",
        "13: \"Ditch, embankment, rock face\",\n",
        "14: \"Other fixed obstacle on roadway\",\n",
        "15: \"Other fixed obstacle on sidewalk or shoulder 16 – Exit from roadway without obstacle\"\n",
        "\n",
        "}\n",
        "data['obstacles_fixed']=data['obstacles_fixed'].replace(replacement_dict)\n",
        "data['obstacles_fixed'].value_counts()"
      ],
      "metadata": {
        "colab": {
          "base_uri": "https://localhost:8080/"
        },
        "id": "TF_ur4uTfVt3",
        "outputId": "9655f059-d7cb-4937-a938-6c391f22e8c3"
      },
      "execution_count": null,
      "outputs": [
        {
          "output_type": "execute_result",
          "data": {
            "text/plain": [
              "0.0                                                                                     3183525\n",
              "Parked vehicle                                                                            70771\n",
              "Ditch, embankment, rock face                                                              42996\n",
              "Metal Slide                                                                               37326\n",
              "Tree                                                                                      34388\n",
              "Concrete slide                                                                            33144\n",
              "Building, wall, bridge pier                                                               29023\n",
              "Other fixed obstacle on roadway                                                           27323\n",
              "Post                                                                                      26589\n",
              "Curb                                                                                      13056\n",
              "16.0                                                                                      12343\n",
              "Other fixed obstacle on sidewalk or shoulder 16 – Exit from roadway without obstacle      12337\n",
              "Urban furniture                                                                            8900\n",
              "Vertical signaling support or emergency call station                                       5847\n",
              "Island, refuge, upper boundary                                                             5837\n",
              "Other slider                                                                               3804\n",
              "Parapet                                                                                    3123\n",
              "Name: obstacles_fixed, dtype: int64"
            ]
          },
          "metadata": {},
          "execution_count": 92
        }
      ]
    },
    {
      "cell_type": "code",
      "source": [
        "replacement_dict={\n",
        "    0: \"unknown_0\",\n",
        "    1: \"Pedestrian\",\n",
        "    2: \"Vehicle\",\n",
        "    4: \"Rail_vehicle\",\n",
        "    5: \"Pet\",\n",
        "    6: \"Wild_Animal\",\n",
        "    9: \"Other\",\n",
        "    None: \"unknown\"\n",
        "\n",
        "}\n",
        "data['obstacle_mobile']=data['obstacle_mobile'].replace(replacement_dict)\n",
        "data['obstacle_mobile'].value_counts()"
      ],
      "metadata": {
        "colab": {
          "base_uri": "https://localhost:8080/"
        },
        "id": "iye-nVrqfahF",
        "outputId": "63312f6b-38f8-4d75-aae6-d808cd237b81"
      },
      "execution_count": null,
      "outputs": [
        {
          "output_type": "execute_result",
          "data": {
            "text/plain": [
              "Vehicle         2540092\n",
              "unknown_0        651683\n",
              "Pedestrian       303403\n",
              "Other             47874\n",
              "Rail_vehicle       3553\n",
              "Wild_Animal        3393\n",
              "Pet                2280\n",
              "Name: obstacle_mobile, dtype: int64"
            ]
          },
          "metadata": {},
          "execution_count": 93
        }
      ]
    },
    {
      "cell_type": "code",
      "source": [
        "data.head()"
      ],
      "metadata": {
        "colab": {
          "base_uri": "https://localhost:8080/",
          "height": 360
        },
        "id": "ddsvo-Na9Bdy",
        "outputId": "2447a3a7-954a-4590-b0a5-a1db2b331ea5"
      },
      "execution_count": null,
      "outputs": [
        {
          "output_type": "execute_result",
          "data": {
            "text/plain": [
              "   Unnamed: 0   Accident_ID  year_of_acc  month_of_acc  day_of acc  \\\n",
              "0           0  201600000001         2016             2           1   \n",
              "1           1  201600000001         2016             2           1   \n",
              "2           2  201600000001         2016             2           1   \n",
              "3           3  201600000001         2016             2           1   \n",
              "4           4  201600000002         2016             3          16   \n",
              "\n",
              "   acc_tim_in_hour_min lighting_condition       localisation  \\\n",
              "0                 1445           full_day  In built-up areas   \n",
              "1                 1445           full_day  In built-up areas   \n",
              "2                 1445           full_day  In built-up areas   \n",
              "3                 1445           full_day  In built-up areas   \n",
              "4                 1800           full_day  In built-up areas   \n",
              "\n",
              "   Type_of_Intersection Atmospheric_conditions  ... Situation_of_Accident  \\\n",
              "0   Out of intersection         Cloudy weather  ...           On the road   \n",
              "1   Out of intersection         Cloudy weather  ...           On the road   \n",
              "2   Out of intersection         Cloudy weather  ...           On the road   \n",
              "3   Out of intersection         Cloudy weather  ...           On the road   \n",
              "4              Giratory                 Normal  ...           On the road   \n",
              "\n",
              "   School_point  Flow_direction  catagory_veh  occupants_num  \\\n",
              "0           0.0             0.0       VL only              0   \n",
              "1           0.0             0.0  Moped <50cm3              0   \n",
              "2           0.0             0.0       VL only              0   \n",
              "3           0.0             0.0  Moped <50cm3              0   \n",
              "4           0.0             0.0       VL only              0   \n",
              "\n",
              "               obstacles_fixed obstacle_mobile shock maneuver num_veh_y  \n",
              "0                          0.0       unknown_0   1.0      1.0       B02  \n",
              "1                          0.0       unknown_0   7.0     15.0       A01  \n",
              "2                          0.0       unknown_0   1.0      1.0       B02  \n",
              "3                          0.0       unknown_0   7.0     15.0       A01  \n",
              "4  Building, wall, bridge pier       unknown_0   1.0      1.0       A01  \n",
              "\n",
              "[5 rows x 46 columns]"
            ],
            "text/html": [
              "\n",
              "  <div id=\"df-abe754fb-8854-460a-a18c-7fd9f354979f\" class=\"colab-df-container\">\n",
              "    <div>\n",
              "<style scoped>\n",
              "    .dataframe tbody tr th:only-of-type {\n",
              "        vertical-align: middle;\n",
              "    }\n",
              "\n",
              "    .dataframe tbody tr th {\n",
              "        vertical-align: top;\n",
              "    }\n",
              "\n",
              "    .dataframe thead th {\n",
              "        text-align: right;\n",
              "    }\n",
              "</style>\n",
              "<table border=\"1\" class=\"dataframe\">\n",
              "  <thead>\n",
              "    <tr style=\"text-align: right;\">\n",
              "      <th></th>\n",
              "      <th>Unnamed: 0</th>\n",
              "      <th>Accident_ID</th>\n",
              "      <th>year_of_acc</th>\n",
              "      <th>month_of_acc</th>\n",
              "      <th>day_of acc</th>\n",
              "      <th>acc_tim_in_hour_min</th>\n",
              "      <th>lighting_condition</th>\n",
              "      <th>localisation</th>\n",
              "      <th>Type_of_Intersection</th>\n",
              "      <th>Atmospheric_conditions</th>\n",
              "      <th>...</th>\n",
              "      <th>Situation_of_Accident</th>\n",
              "      <th>School_point</th>\n",
              "      <th>Flow_direction</th>\n",
              "      <th>catagory_veh</th>\n",
              "      <th>occupants_num</th>\n",
              "      <th>obstacles_fixed</th>\n",
              "      <th>obstacle_mobile</th>\n",
              "      <th>shock</th>\n",
              "      <th>maneuver</th>\n",
              "      <th>num_veh_y</th>\n",
              "    </tr>\n",
              "  </thead>\n",
              "  <tbody>\n",
              "    <tr>\n",
              "      <th>0</th>\n",
              "      <td>0</td>\n",
              "      <td>201600000001</td>\n",
              "      <td>2016</td>\n",
              "      <td>2</td>\n",
              "      <td>1</td>\n",
              "      <td>1445</td>\n",
              "      <td>full_day</td>\n",
              "      <td>In built-up areas</td>\n",
              "      <td>Out of intersection</td>\n",
              "      <td>Cloudy weather</td>\n",
              "      <td>...</td>\n",
              "      <td>On the road</td>\n",
              "      <td>0.0</td>\n",
              "      <td>0.0</td>\n",
              "      <td>VL only</td>\n",
              "      <td>0</td>\n",
              "      <td>0.0</td>\n",
              "      <td>unknown_0</td>\n",
              "      <td>1.0</td>\n",
              "      <td>1.0</td>\n",
              "      <td>B02</td>\n",
              "    </tr>\n",
              "    <tr>\n",
              "      <th>1</th>\n",
              "      <td>1</td>\n",
              "      <td>201600000001</td>\n",
              "      <td>2016</td>\n",
              "      <td>2</td>\n",
              "      <td>1</td>\n",
              "      <td>1445</td>\n",
              "      <td>full_day</td>\n",
              "      <td>In built-up areas</td>\n",
              "      <td>Out of intersection</td>\n",
              "      <td>Cloudy weather</td>\n",
              "      <td>...</td>\n",
              "      <td>On the road</td>\n",
              "      <td>0.0</td>\n",
              "      <td>0.0</td>\n",
              "      <td>Moped &lt;50cm3</td>\n",
              "      <td>0</td>\n",
              "      <td>0.0</td>\n",
              "      <td>unknown_0</td>\n",
              "      <td>7.0</td>\n",
              "      <td>15.0</td>\n",
              "      <td>A01</td>\n",
              "    </tr>\n",
              "    <tr>\n",
              "      <th>2</th>\n",
              "      <td>2</td>\n",
              "      <td>201600000001</td>\n",
              "      <td>2016</td>\n",
              "      <td>2</td>\n",
              "      <td>1</td>\n",
              "      <td>1445</td>\n",
              "      <td>full_day</td>\n",
              "      <td>In built-up areas</td>\n",
              "      <td>Out of intersection</td>\n",
              "      <td>Cloudy weather</td>\n",
              "      <td>...</td>\n",
              "      <td>On the road</td>\n",
              "      <td>0.0</td>\n",
              "      <td>0.0</td>\n",
              "      <td>VL only</td>\n",
              "      <td>0</td>\n",
              "      <td>0.0</td>\n",
              "      <td>unknown_0</td>\n",
              "      <td>1.0</td>\n",
              "      <td>1.0</td>\n",
              "      <td>B02</td>\n",
              "    </tr>\n",
              "    <tr>\n",
              "      <th>3</th>\n",
              "      <td>3</td>\n",
              "      <td>201600000001</td>\n",
              "      <td>2016</td>\n",
              "      <td>2</td>\n",
              "      <td>1</td>\n",
              "      <td>1445</td>\n",
              "      <td>full_day</td>\n",
              "      <td>In built-up areas</td>\n",
              "      <td>Out of intersection</td>\n",
              "      <td>Cloudy weather</td>\n",
              "      <td>...</td>\n",
              "      <td>On the road</td>\n",
              "      <td>0.0</td>\n",
              "      <td>0.0</td>\n",
              "      <td>Moped &lt;50cm3</td>\n",
              "      <td>0</td>\n",
              "      <td>0.0</td>\n",
              "      <td>unknown_0</td>\n",
              "      <td>7.0</td>\n",
              "      <td>15.0</td>\n",
              "      <td>A01</td>\n",
              "    </tr>\n",
              "    <tr>\n",
              "      <th>4</th>\n",
              "      <td>4</td>\n",
              "      <td>201600000002</td>\n",
              "      <td>2016</td>\n",
              "      <td>3</td>\n",
              "      <td>16</td>\n",
              "      <td>1800</td>\n",
              "      <td>full_day</td>\n",
              "      <td>In built-up areas</td>\n",
              "      <td>Giratory</td>\n",
              "      <td>Normal</td>\n",
              "      <td>...</td>\n",
              "      <td>On the road</td>\n",
              "      <td>0.0</td>\n",
              "      <td>0.0</td>\n",
              "      <td>VL only</td>\n",
              "      <td>0</td>\n",
              "      <td>Building, wall, bridge pier</td>\n",
              "      <td>unknown_0</td>\n",
              "      <td>1.0</td>\n",
              "      <td>1.0</td>\n",
              "      <td>A01</td>\n",
              "    </tr>\n",
              "  </tbody>\n",
              "</table>\n",
              "<p>5 rows × 46 columns</p>\n",
              "</div>\n",
              "    <div class=\"colab-df-buttons\">\n",
              "\n",
              "  <div class=\"colab-df-container\">\n",
              "    <button class=\"colab-df-convert\" onclick=\"convertToInteractive('df-abe754fb-8854-460a-a18c-7fd9f354979f')\"\n",
              "            title=\"Convert this dataframe to an interactive table.\"\n",
              "            style=\"display:none;\">\n",
              "\n",
              "  <svg xmlns=\"http://www.w3.org/2000/svg\" height=\"24px\" viewBox=\"0 -960 960 960\">\n",
              "    <path d=\"M120-120v-720h720v720H120Zm60-500h600v-160H180v160Zm220 220h160v-160H400v160Zm0 220h160v-160H400v160ZM180-400h160v-160H180v160Zm440 0h160v-160H620v160ZM180-180h160v-160H180v160Zm440 0h160v-160H620v160Z\"/>\n",
              "  </svg>\n",
              "    </button>\n",
              "\n",
              "  <style>\n",
              "    .colab-df-container {\n",
              "      display:flex;\n",
              "      gap: 12px;\n",
              "    }\n",
              "\n",
              "    .colab-df-convert {\n",
              "      background-color: #E8F0FE;\n",
              "      border: none;\n",
              "      border-radius: 50%;\n",
              "      cursor: pointer;\n",
              "      display: none;\n",
              "      fill: #1967D2;\n",
              "      height: 32px;\n",
              "      padding: 0 0 0 0;\n",
              "      width: 32px;\n",
              "    }\n",
              "\n",
              "    .colab-df-convert:hover {\n",
              "      background-color: #E2EBFA;\n",
              "      box-shadow: 0px 1px 2px rgba(60, 64, 67, 0.3), 0px 1px 3px 1px rgba(60, 64, 67, 0.15);\n",
              "      fill: #174EA6;\n",
              "    }\n",
              "\n",
              "    .colab-df-buttons div {\n",
              "      margin-bottom: 4px;\n",
              "    }\n",
              "\n",
              "    [theme=dark] .colab-df-convert {\n",
              "      background-color: #3B4455;\n",
              "      fill: #D2E3FC;\n",
              "    }\n",
              "\n",
              "    [theme=dark] .colab-df-convert:hover {\n",
              "      background-color: #434B5C;\n",
              "      box-shadow: 0px 1px 3px 1px rgba(0, 0, 0, 0.15);\n",
              "      filter: drop-shadow(0px 1px 2px rgba(0, 0, 0, 0.3));\n",
              "      fill: #FFFFFF;\n",
              "    }\n",
              "  </style>\n",
              "\n",
              "    <script>\n",
              "      const buttonEl =\n",
              "        document.querySelector('#df-abe754fb-8854-460a-a18c-7fd9f354979f button.colab-df-convert');\n",
              "      buttonEl.style.display =\n",
              "        google.colab.kernel.accessAllowed ? 'block' : 'none';\n",
              "\n",
              "      async function convertToInteractive(key) {\n",
              "        const element = document.querySelector('#df-abe754fb-8854-460a-a18c-7fd9f354979f');\n",
              "        const dataTable =\n",
              "          await google.colab.kernel.invokeFunction('convertToInteractive',\n",
              "                                                    [key], {});\n",
              "        if (!dataTable) return;\n",
              "\n",
              "        const docLinkHtml = 'Like what you see? Visit the ' +\n",
              "          '<a target=\"_blank\" href=https://colab.research.google.com/notebooks/data_table.ipynb>data table notebook</a>'\n",
              "          + ' to learn more about interactive tables.';\n",
              "        element.innerHTML = '';\n",
              "        dataTable['output_type'] = 'display_data';\n",
              "        await google.colab.output.renderOutput(dataTable, element);\n",
              "        const docLink = document.createElement('div');\n",
              "        docLink.innerHTML = docLinkHtml;\n",
              "        element.appendChild(docLink);\n",
              "      }\n",
              "    </script>\n",
              "  </div>\n",
              "\n",
              "\n",
              "<div id=\"df-dd7bc177-905a-4181-b4ed-cd196d6733d5\">\n",
              "  <button class=\"colab-df-quickchart\" onclick=\"quickchart('df-dd7bc177-905a-4181-b4ed-cd196d6733d5')\"\n",
              "            title=\"Suggest charts.\"\n",
              "            style=\"display:none;\">\n",
              "\n",
              "<svg xmlns=\"http://www.w3.org/2000/svg\" height=\"24px\"viewBox=\"0 0 24 24\"\n",
              "     width=\"24px\">\n",
              "    <g>\n",
              "        <path d=\"M19 3H5c-1.1 0-2 .9-2 2v14c0 1.1.9 2 2 2h14c1.1 0 2-.9 2-2V5c0-1.1-.9-2-2-2zM9 17H7v-7h2v7zm4 0h-2V7h2v10zm4 0h-2v-4h2v4z\"/>\n",
              "    </g>\n",
              "</svg>\n",
              "  </button>\n",
              "\n",
              "<style>\n",
              "  .colab-df-quickchart {\n",
              "    background-color: #E8F0FE;\n",
              "    border: none;\n",
              "    border-radius: 50%;\n",
              "    cursor: pointer;\n",
              "    display: none;\n",
              "    fill: #1967D2;\n",
              "    height: 32px;\n",
              "    padding: 0 0 0 0;\n",
              "    width: 32px;\n",
              "  }\n",
              "\n",
              "  .colab-df-quickchart:hover {\n",
              "    background-color: #E2EBFA;\n",
              "    box-shadow: 0px 1px 2px rgba(60, 64, 67, 0.3), 0px 1px 3px 1px rgba(60, 64, 67, 0.15);\n",
              "    fill: #174EA6;\n",
              "  }\n",
              "\n",
              "  [theme=dark] .colab-df-quickchart {\n",
              "    background-color: #3B4455;\n",
              "    fill: #D2E3FC;\n",
              "  }\n",
              "\n",
              "  [theme=dark] .colab-df-quickchart:hover {\n",
              "    background-color: #434B5C;\n",
              "    box-shadow: 0px 1px 3px 1px rgba(0, 0, 0, 0.15);\n",
              "    filter: drop-shadow(0px 1px 2px rgba(0, 0, 0, 0.3));\n",
              "    fill: #FFFFFF;\n",
              "  }\n",
              "</style>\n",
              "\n",
              "  <script>\n",
              "    async function quickchart(key) {\n",
              "      const charts = await google.colab.kernel.invokeFunction(\n",
              "          'suggestCharts', [key], {});\n",
              "    }\n",
              "    (() => {\n",
              "      let quickchartButtonEl =\n",
              "        document.querySelector('#df-dd7bc177-905a-4181-b4ed-cd196d6733d5 button');\n",
              "      quickchartButtonEl.style.display =\n",
              "        google.colab.kernel.accessAllowed ? 'block' : 'none';\n",
              "    })();\n",
              "  </script>\n",
              "</div>\n",
              "    </div>\n",
              "  </div>\n"
            ]
          },
          "metadata": {},
          "execution_count": 94
        }
      ]
    },
    {
      "cell_type": "code",
      "source": [
        "data.to_csv('/content/drive/MyDrive/DS_project_data/france accidents/Categorical_data.csv')"
      ],
      "metadata": {
        "id": "OJXICV6Ffej8"
      },
      "execution_count": null,
      "outputs": []
    },
    {
      "cell_type": "code",
      "source": [],
      "metadata": {
        "id": "Ubf5sKrdgXtB"
      },
      "execution_count": null,
      "outputs": []
    }
  ]
}